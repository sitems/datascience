{
 "cells": [
  {
   "cell_type": "code",
   "execution_count": null,
   "metadata": {},
   "outputs": [],
   "source": [
    "import pandas as pd\n",
    "%matplotlib inline"
   ]
  },
  {
   "cell_type": "code",
   "execution_count": null,
   "metadata": {},
   "outputs": [],
   "source": [
    "train = pd.read_csv(\"/home/miroslav/Downloads/dont-overfit-ii/train.csv\").drop('id', axis=1)\n",
    "\n",
    "y_train = train['target']\n",
    "X_train = train.drop('target', axis=1)\n",
    "\n",
    "\n",
    "test = pd.read_csv('/home/miroslav/Downloads/dont-overfit-ii/test.csv')\n",
    "X_test = test.drop('id', axis = 1)\n",
    "\n",
    "submission = pd.read_csv('/home/miroslav/Downloads/dont-overfit-ii/sample_submission.csv')"
   ]
  },
  {
   "cell_type": "code",
   "execution_count": null,
   "metadata": {},
   "outputs": [],
   "source": [
    "from tpot import TPOTClassifier\n",
    "from tempfile import mkdtemp\n",
    "\n",
    "cachedir = mkdtemp()\n",
    "\n",
    "# pozor potom...vvraj ak ma numericky stlpec menej ako 10 unique hodnot, povazuje ho za categorical!!!\n",
    "# da sa to ale nastavit v configu, veci co sa tykaju categorical a pod stlpcov:\n",
    "# https://github.com/EpistasisLab/tpot/issues/549\n",
    "# https://epistasislab.github.io/tpot/using/#customizing-tpots-operators-and-parameters\n",
    "model = TPOTClassifier(\n",
    "     generations=500, # cim viac typ lepsie\n",
    "#     population_size=500, # cim viac tym lepsie\n",
    "    verbosity=3, \n",
    "    n_jobs=-1, \n",
    "    random_state=99,\n",
    "    #random_state=1,\n",
    "    scoring='roc_auc',\n",
    "    use_dask=True,\n",
    "    cv=10,\n",
    "    memory=cachedir,\n",
    "    config_dict='TPOT light', # ked ten parameter vynecham, tak to zlyha\n",
    "    max_eval_time_mins=30, # maximalny cas na jeden pipeline\n",
    "    periodic_checkpoint_folder='trash/',\n",
    "    warm_start=True # vdaka tomuto mozem vypocet kedykolvek prerusit a potom dalsi fit pokracuje kde predosly skoncil\n",
    ")"
   ]
  },
  {
   "cell_type": "code",
   "execution_count": null,
   "metadata": {},
   "outputs": [],
   "source": [
    "model.fit(X_train.copy(), y_train.copy())"
   ]
  },
  {
   "cell_type": "code",
   "execution_count": null,
   "metadata": {},
   "outputs": [],
   "source": [
    "pd.Series(model.predict_proba(X_test)[:,1]).plot(kind='hist')"
   ]
  },
  {
   "cell_type": "code",
   "execution_count": null,
   "metadata": {},
   "outputs": [],
   "source": []
  },
  {
   "cell_type": "code",
   "execution_count": null,
   "metadata": {},
   "outputs": [],
   "source": []
  },
  {
   "cell_type": "code",
   "execution_count": null,
   "metadata": {
    "scrolled": true
   },
   "outputs": [],
   "source": [
    "from sklearn.svm import SVC\n",
    "from sklearn.linear_model import LogisticRegressionCV\n",
    "\n",
    "from yellowbrick.features import RFECV\n",
    "\n",
    "viz = RFECV(\n",
    "    LogisticRegressionCV(\n",
    "        #cv=10, \n",
    "        solver='liblinear',\n",
    "        class_weight='balanced', penalty='l1'\n",
    "    ), \n",
    "    #cv=10, \n",
    "    scoring='roc_auc')\n",
    "\n",
    "viz.fit(X_train, y_train)\n",
    "viz.poof()"
   ]
  },
  {
   "cell_type": "code",
   "execution_count": null,
   "metadata": {},
   "outputs": [],
   "source": []
  },
  {
   "cell_type": "code",
   "execution_count": null,
   "metadata": {},
   "outputs": [],
   "source": []
  },
  {
   "cell_type": "code",
   "execution_count": null,
   "metadata": {},
   "outputs": [],
   "source": []
  },
  {
   "cell_type": "code",
   "execution_count": null,
   "metadata": {},
   "outputs": [],
   "source": []
  },
  {
   "cell_type": "code",
   "execution_count": null,
   "metadata": {},
   "outputs": [],
   "source": [
    "import autosklearn.classification\n",
    "\n",
    "model = autosklearn.classification.AutoSklearnClassifier(\n",
    "    time_left_for_this_task=3600,\n",
    "    per_run_time_limit=600,\n",
    "    #ml_memory_limit=3072,\n",
    "    n_jobs=8,\n",
    "    resampling_strategy='cv',\n",
    "#     tmp_folder='trash/',\n",
    "#     output_folder='trash/',\n",
    "    resampling_strategy_arguments={'folds': 10, 'shuffle':True},\n",
    ")\n",
    "\n",
    "model.fit(\n",
    "    X_train.copy(), \n",
    "    y_train.copy(), \n",
    "    metric=autosklearn.metrics.roc_auc, \n",
    "    #X_test=None, y_test=None,\n",
    "    #feat_type=None,\n",
    ")\n",
    "#predictions = cls.predict(X_test)"
   ]
  },
  {
   "cell_type": "code",
   "execution_count": null,
   "metadata": {},
   "outputs": [],
   "source": [
    "model.refit(X_train.copy(), y_train.copy())"
   ]
  },
  {
   "cell_type": "code",
   "execution_count": null,
   "metadata": {},
   "outputs": [],
   "source": [
    "pd.DataFrame(model.cv_results_).sort_values(by='mean_test_score', ascending=False)#.to_csv('/home/miroslav/Desktop/tre.csv')"
   ]
  },
  {
   "cell_type": "code",
   "execution_count": null,
   "metadata": {},
   "outputs": [],
   "source": []
  },
  {
   "cell_type": "code",
   "execution_count": null,
   "metadata": {},
   "outputs": [],
   "source": []
  },
  {
   "cell_type": "code",
   "execution_count": null,
   "metadata": {},
   "outputs": [],
   "source": [
    "X_train[[str(i) for i in range(30)]].hist()"
   ]
  },
  {
   "cell_type": "code",
   "execution_count": null,
   "metadata": {},
   "outputs": [],
   "source": [
    "from sklearn.decomposition import TruncatedSVD\n",
    "svd = TruncatedSVD(n_components=150, n_iter=7, random_state=42)\n",
    "X = svd.fit_transform(X_train)  \n",
    "print(svd.explained_variance_ratio_.sum())  "
   ]
  },
  {
   "cell_type": "code",
   "execution_count": null,
   "metadata": {},
   "outputs": [],
   "source": [
    "import umap\n",
    "from sklearn.datasets import load_digits\n",
    "from sklearn.manifold import TSNE\n",
    "\n",
    "embedding = umap.UMAP().fit_transform(X)\n",
    "#embedding = TSNE().fit_transform(X_train)"
   ]
  },
  {
   "cell_type": "code",
   "execution_count": null,
   "metadata": {},
   "outputs": [],
   "source": [
    "import matplotlib.pyplot as plt\n",
    "plt.scatter(embedding[:,0], embedding[:,1], c=y_train) #, c=y_train"
   ]
  },
  {
   "cell_type": "code",
   "execution_count": null,
   "metadata": {},
   "outputs": [],
   "source": [
    "from sklearn.preprocessing import StandardScaler\n",
    "scaler = StandardScaler()\n",
    "X_train = scaler.fit_transform(X_train)\n",
    "X_test = scaler.transform(X_test)"
   ]
  },
  {
   "cell_type": "code",
   "execution_count": null,
   "metadata": {},
   "outputs": [],
   "source": [
    "from sklearn.decomposition import TruncatedSVD\n",
    "\n",
    "svd = TruncatedSVD(n_components=200)\n",
    "\n",
    "svd.fit(X_train)\n",
    "\n",
    "svd.explained_variance_ratio_.sum()"
   ]
  },
  {
   "cell_type": "code",
   "execution_count": null,
   "metadata": {},
   "outputs": [],
   "source": [
    "X_train.std()"
   ]
  },
  {
   "cell_type": "code",
   "execution_count": null,
   "metadata": {},
   "outputs": [],
   "source": [
    "import autosklearn.classification\n",
    "cls = autosklearn.classification.AutoSklearnClassifier(\n",
    "    time_left_for_this_task=3600,\n",
    "    #ml_memory_limit=8000,\n",
    "    n_jobs=8,\n",
    "    resampling_strategy='cv',\n",
    "        resampling_strategy_arguments={'folds': 10},\n",
    ")\n",
    "cls.fit(X_train.copy(), y_train.copy(), metric=autosklearn.metrics.roc_auc)\n",
    "#predictions = cls.predict(X_test)"
   ]
  },
  {
   "cell_type": "code",
   "execution_count": null,
   "metadata": {},
   "outputs": [],
   "source": [
    "cls.refit(X_train.copy(), y_train.copy())"
   ]
  },
  {
   "cell_type": "code",
   "execution_count": null,
   "metadata": {},
   "outputs": [],
   "source": [
    "pd.DataFrame(cls.show_models())"
   ]
  },
  {
   "cell_type": "code",
   "execution_count": null,
   "metadata": {},
   "outputs": [],
   "source": [
    "cls.predict_proba(X_test)[:,1]"
   ]
  },
  {
   "cell_type": "code",
   "execution_count": null,
   "metadata": {},
   "outputs": [],
   "source": [
    "pd.DataFrame(cls.cv_results_).sort_values(by='mean_test_score', ascending=False).to_csv('/home/miroslav/Desktop/tre.csv')\n",
    "#.head(1).T"
   ]
  },
  {
   "cell_type": "code",
   "execution_count": null,
   "metadata": {
    "scrolled": true
   },
   "outputs": [],
   "source": [
    "cls.predict_proba(X_test)[:,1]"
   ]
  },
  {
   "cell_type": "code",
   "execution_count": null,
   "metadata": {},
   "outputs": [],
   "source": [
    "from tpot import TPOTClassifier\n",
    "\n",
    "tpot = TPOTClassifier(\n",
    "    #generations=5, \n",
    "    #population_size=20, \n",
    "    verbosity=2, \n",
    "    n_jobs=-1, \n",
    "    scoring='roc_auc',\n",
    "    use_dask=True,\n",
    "    cv=10,\n",
    "    config_dict='TPOT light'\n",
    ")\n",
    "tpot.fit(X_train.copy(), y_train.copy())"
   ]
  },
  {
   "cell_type": "code",
   "execution_count": null,
   "metadata": {},
   "outputs": [],
   "source": [
    "list(tpot.pareto_front_fitted_pipelines_)[4]"
   ]
  },
  {
   "cell_type": "code",
   "execution_count": null,
   "metadata": {},
   "outputs": [],
   "source": [
    "tpot.predict_proba(X_test)[:,1].mean()"
   ]
  },
  {
   "cell_type": "code",
   "execution_count": null,
   "metadata": {},
   "outputs": [],
   "source": [
    "tpot.export('tpot_mnist_pipeline.py')"
   ]
  },
  {
   "cell_type": "markdown",
   "metadata": {},
   "source": [
    "# Models"
   ]
  },
  {
   "cell_type": "code",
   "execution_count": null,
   "metadata": {},
   "outputs": [],
   "source": [
    "from sklearn.tree import DecisionTreeClassifier\n",
    "\n",
    "param_grid = {'max_depth': [2, 4, 6, 10, 30, 100]}\n",
    "clf = DecisionTreeClassifier() #64"
   ]
  },
  {
   "cell_type": "code",
   "execution_count": null,
   "metadata": {},
   "outputs": [],
   "source": [
    "from sklearn.ensemble import ExtraTreesClassifier\n",
    "\n",
    "clf = ExtraTreesClassifier(\n",
    "    max_leaf_nodes=None, min_samples_split=19,\n",
    "    n_estimators=100, max_depth=None, max_features=0.65133, min_samples_leaf=11, criterion='gini')\n",
    "\n",
    "param_grid = {\n",
    "    #'learning_rate': [0.05, 0.1],\n",
    "    #'n_estimators': [300, 1000],\n",
    "    #'max_depth': [None],#[2, 3, 10, 30, 50, 100, 150]\n",
    "}"
   ]
  },
  {
   "cell_type": "code",
   "execution_count": null,
   "metadata": {},
   "outputs": [],
   "source": [
    "from xgboost import XGBClassifier\n",
    "\n",
    "param_grid = {\n",
    "    'learning_rate': [0.05, 0.1],\n",
    "    'n_estimators': [300, 1000],\n",
    "    'max_depth': [2, 3, 10, 30]\n",
    "}\n",
    "\n",
    "clf = XGBClassifier() #74"
   ]
  },
  {
   "cell_type": "code",
   "execution_count": null,
   "metadata": {},
   "outputs": [],
   "source": [
    "from sklearn.linear_model import LogisticRegression\n",
    "\n",
    "# , 10, 100, 1000, , 0.001, 0.01, 0.1, 1, 10, 100, 1000\n",
    "param_grid = {\n",
    "    'C': [0.00001, 0.001, 0.01, 0.05, 0.075, 0.09, 0.1, 0.11, 0.15, 0.25, 0.7, 1, 3, 10, 100, 1000],\n",
    "    'penalty': ['l1', 'l2']\n",
    "}\n",
    "clf = LogisticRegression(class_weight='balanced', solver='liblinear') #789"
   ]
  },
  {
   "cell_type": "code",
   "execution_count": null,
   "metadata": {},
   "outputs": [],
   "source": [
    "param_grid = {\n",
    "    'C': [0.0000000001, 0.000000001, 0.001, 0.01, 0.1, 1, 10], \n",
    "    'gamma' : [0.000001, 0.001, 0.01, 0.1, 0.5, 1, 50],\n",
    "    'kernel':['linear', 'poly', 'rbf', 'sigmoid']\n",
    "}\n",
    "\n",
    "from sklearn import svm\n",
    "clf = svm.SVC(probability=True, class_weight='balanced', kernel='poly') #75"
   ]
  },
  {
   "cell_type": "code",
   "execution_count": null,
   "metadata": {},
   "outputs": [],
   "source": []
  },
  {
   "cell_type": "code",
   "execution_count": null,
   "metadata": {},
   "outputs": [],
   "source": [
    "from sklearn.linear_model import SGDClassifier\n",
    "\n",
    "param_grid = {\n",
    "    'l1_ratio': [0, 0.00001, 0.01, 0.5, 0.99, 0.9999, 1], \n",
    "    'loss': ['hinge', 'log', 'perceptron'],\n",
    "    'alpha':[ 0.0001, 0.01, 0.1, 0.5, 1, 100]\n",
    "}\n",
    "\n",
    "clf = SGDClassifier(penalty='elasticnet', class_weight='balanced') #781"
   ]
  },
  {
   "cell_type": "code",
   "execution_count": null,
   "metadata": {},
   "outputs": [],
   "source": [
    "from sklearn.ensemble import RandomForestClassifier\n",
    "\n",
    "clf = RandomForestClassifier()"
   ]
  },
  {
   "cell_type": "code",
   "execution_count": null,
   "metadata": {},
   "outputs": [],
   "source": []
  },
  {
   "cell_type": "markdown",
   "metadata": {},
   "source": [
    "# CV"
   ]
  },
  {
   "cell_type": "code",
   "execution_count": null,
   "metadata": {},
   "outputs": [],
   "source": [
    "print(__doc__)\n",
    "\n",
    "import matplotlib.pyplot as plt\n",
    "from sklearn.svm import SVC\n",
    "from sklearn.model_selection import StratifiedKFold, RepeatedStratifiedKFold\n",
    "from sklearn.feature_selection import RFECV\n",
    "from sklearn.datasets import make_classification\n",
    "\n",
    "\n",
    "rfecv = RFECV(\n",
    "    estimator=clf,\n",
    "    step=1,\n",
    "    n_jobs=-1, \n",
    "    #min_features_to_select=50,\n",
    "    cv=RepeatedStratifiedKFold(n_splits=10, n_repeats = 4, random_state=42),  \n",
    "    scoring='roc_auc')\n",
    "rfecv.fit(X_train, y_train)\n",
    "\n",
    "print(\"Optimal number of features : %d\" % rfecv.n_features_)\n",
    "\n",
    "# Plot number of features VS. cross-validation scores\n",
    "plt.figure()\n",
    "plt.xlabel(\"Number of features selected\")\n",
    "plt.ylabel(\"Cross validation score (nb of correct classifications)\")\n",
    "plt.plot(range(1, len(rfecv.grid_scores_) + 1), rfecv.grid_scores_)\n",
    "plt.show()"
   ]
  },
  {
   "cell_type": "code",
   "execution_count": null,
   "metadata": {},
   "outputs": [],
   "source": [
    "rfecv.predict_proba(X_test)"
   ]
  },
  {
   "cell_type": "code",
   "execution_count": null,
   "metadata": {},
   "outputs": [],
   "source": [
    "#rfecv.ranking_[:8]\n",
    "\n",
    "X_train[:, rfecv.ranking_ == 1].shape"
   ]
  },
  {
   "cell_type": "code",
   "execution_count": null,
   "metadata": {},
   "outputs": [],
   "source": [
    "rfecv."
   ]
  },
  {
   "cell_type": "code",
   "execution_count": null,
   "metadata": {},
   "outputs": [],
   "source": [
    "rfecv.ranking_ < 100"
   ]
  },
  {
   "cell_type": "code",
   "execution_count": null,
   "metadata": {},
   "outputs": [],
   "source": [
    "from sklearn.model_selection import GridSearchCV, LeaveOneOut\n",
    "\n",
    "from sklearn.model_selection import RepeatedStratifiedKFold\n",
    "rskf = RepeatedStratifiedKFold(n_splits=10, n_repeats=2, random_state=42)\n",
    "\n",
    "model = GridSearchCV(\n",
    "    clf, param_grid, \n",
    "    scoring='roc_auc',\n",
    "    verbose=0, n_jobs = -1, cv = rskf, iid=False\n",
    ")\n",
    "model.fit(X_train, y_train).best_score_"
   ]
  },
  {
   "cell_type": "code",
   "execution_count": null,
   "metadata": {},
   "outputs": [],
   "source": [
    "#clf.fit(X_train, y_train)\n",
    "sum(rfecv.ranking_ < 100)\n",
    "clf"
   ]
  },
  {
   "cell_type": "code",
   "execution_count": null,
   "metadata": {},
   "outputs": [],
   "source": [
    "model.best_params_"
   ]
  },
  {
   "cell_type": "code",
   "execution_count": null,
   "metadata": {},
   "outputs": [],
   "source": [
    "submission['target'] = model.predict_proba(X_test)[:,1]\n",
    "#tpot.predict_proba(X_test)[:,1]\n",
    "#cls.predict_proba(X_test)[:,1]\n",
    "#cls.predict_proba(X_test)[:,1]\n",
    "#model.predict_proba(X_test)[:,1] #[:, rfecv.ranking_ < 100]\n",
    "submission.to_csv('/home/miroslav/Desktop/submission_tpot_0.9 AUC (CV).csv', index=False)"
   ]
  },
  {
   "cell_type": "code",
   "execution_count": null,
   "metadata": {},
   "outputs": [],
   "source": [
    "model.predict_proba(X_test)[:,1]"
   ]
  },
  {
   "cell_type": "raw",
   "metadata": {},
   "source": [
    "{'balancing:strategy': 'none', 'categorical_encoding:__choice__': 'one_hot_encoding', 'classifier:__choice__': 'extra_trees', 'imputation:strategy': 'mean', 'preprocessor:__choice__': 'select_rates', 'rescaling:__choice__': 'normalize', 'categorical_encoding:one_hot_encoding:use_minimum_fraction': 'False', 'classifier:extra_trees:bootstrap': 'False', 'classifier:extra_trees:criterion': 'gini', 'classifier:extra_trees:max_depth': 'None', 'classifier:extra_trees:max_features': 0.6513343769448696, 'classifier:extra_trees:max_leaf_nodes': 'None', 'classifier:extra_trees:min_impurity_decrease': 0.0, 'classifier:extra_trees:min_samples_leaf': 11, 'classifier:extra_trees:min_samples_split': 19, 'classifier:extra_trees:min_weight_fraction_leaf': 0.0, 'classifier:extra_trees:n_estimators': 100, 'preprocessor:select_rates:alpha': 0.1847500865330056, 'preprocessor:select_rates:mode': 'fpr', 'preprocessor:select_rates:score_func': 'f_classif'}"
   ]
  },
  {
   "cell_type": "code",
   "execution_count": null,
   "metadata": {},
   "outputs": [],
   "source": [
    "from sklearn.feature_selection import f_classif\n",
    "from sklearn.pipeline import Pipeline\n",
    "from sklearn.feature_selection import GenericUnivariateSelect\n",
    "from sklearn.ensemble import ExtraTreesClassifier\n",
    "from sklearn.preprocessing import Normalizer\n",
    "\n",
    "gus = GenericUnivariateSelect(f_classif, 'fpr' ,param=0.1847500865330056)\n",
    "\n",
    "ss = Normalizer(copy=False)\n",
    "\n",
    "clf = ExtraTreesClassifier(\n",
    "    #max_leaf_nodes=None, \n",
    "    min_samples_split=19,\n",
    "    n_estimators=1000, \n",
    "    #max_depth=None, \n",
    "    max_features=0.6513343769448696, \n",
    "    min_samples_leaf=11, \n",
    "    #criterion='gini',\n",
    "    class_weight='balanced'\n",
    ")\n",
    "\n",
    "pl = Pipeline([('ss', ss), ('pp', gus), ('clf', clf)])\n",
    "\n",
    "param_grid = {\n",
    "    #'pp__param':[0.05,  0.18475], \n",
    "             # 'clf__max_features':[ 0.65133, 0.8]\n",
    "}\n",
    "\n",
    "from sklearn.model_selection import GridSearchCV\n",
    "from sklearn.model_selection import RepeatedStratifiedKFold\n",
    "rskf = RepeatedStratifiedKFold(n_splits=10, n_repeats=2, random_state=42)\n",
    "\n",
    "model = GridSearchCV(\n",
    "    pl, param_grid, \n",
    "    scoring='roc_auc',\n",
    "    verbose=0, n_jobs = -1, cv = rskf, iid=False\n",
    ")\n",
    "model.fit(X_train, y_train).best_score_"
   ]
  },
  {
   "cell_type": "code",
   "execution_count": null,
   "metadata": {},
   "outputs": [],
   "source": [
    "model.best_params_"
   ]
  },
  {
   "cell_type": "code",
   "execution_count": null,
   "metadata": {},
   "outputs": [],
   "source": []
  }
 ],
 "metadata": {
  "kernelspec": {
   "display_name": "Python 3",
   "language": "python",
   "name": "python3"
  },
  "language_info": {
   "codemirror_mode": {
    "name": "ipython",
    "version": 3
   },
   "file_extension": ".py",
   "mimetype": "text/x-python",
   "name": "python",
   "nbconvert_exporter": "python",
   "pygments_lexer": "ipython3",
   "version": "3.6.7"
  }
 },
 "nbformat": 4,
 "nbformat_minor": 2
}
