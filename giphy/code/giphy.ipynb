{
 "cells": [
  {
   "cell_type": "code",
   "execution_count": null,
   "metadata": {},
   "outputs": [],
   "source": [
    "from requests_html import HTMLSession, HTML\n",
    "\n",
    "import requests\n",
    "import requests_cache;requests_cache.install_cache('giphy')\n",
    "from requests_html import HTMLSession"
   ]
  },
  {
   "cell_type": "code",
   "execution_count": null,
   "metadata": {},
   "outputs": [],
   "source": [
    "session = HTMLSession()"
   ]
  },
  {
   "cell_type": "code",
   "execution_count": null,
   "metadata": {},
   "outputs": [],
   "source": [
    "# naloguj sa do giphy, chod na svoje favourities, naloaduj vsetky na stranku a uloz subor\n",
    "with open('/home/miroslav/Desktop/giphy/GIFs - Find & Share on GIPHY.html') as f:\n",
    "    html = f.read()"
   ]
  },
  {
   "cell_type": "code",
   "execution_count": null,
   "metadata": {},
   "outputs": [],
   "source": [
    "urls = HTML(html=html).xpath(r'//a[contains(@href, \"/gifs/\")]/@href')\n",
    "len(urls)"
   ]
  },
  {
   "cell_type": "code",
   "execution_count": null,
   "metadata": {
    "scrolled": true
   },
   "outputs": [],
   "source": [
    "import re\n",
    "\n",
    "out = {}\n",
    "\n",
    "for url in urls:\n",
    "    print(url)\n",
    "    r = requests.get(url)\n",
    "    print(r)\n",
    "    \n",
    "    import json\n",
    "    #s = HTML(html=r.text).xpath('//script[contains(text(), \"tags\")]/text()')[0]\n",
    "    #x = eval(re.search(r' \"tags\": (.*), \"feature', s).group(1))   \n",
    "    \n",
    "    x = [x.strip() for x in HTML(html=r.text).find('meta[name=\"keywords\"]')[0].attrs['content'].split(',')]\n",
    "    \n",
    "    out[url] = x\n",
    "    #break"
   ]
  },
  {
   "cell_type": "raw",
   "metadata": {},
   "source": [
    "HTML(html=html).find('img.giphy-gif-img')[0].attrs"
   ]
  },
  {
   "cell_type": "raw",
   "metadata": {},
   "source": [
    "<div style=\"width:100%;height:0;padding-bottom:55%;position:relative;\"><iframe src=\"https://giphy.com/embed/OJbr914LLiETe\" width=\"100%\" height=\"100%\" style=\"position:absolute\" frameBorder=\"0\" class=\"giphy-embed\" allowFullScreen></iframe></div><p><a href=\"https://giphy.com/gifs/hair-flip-beyonce-fabulous-OJbr914LLiETe\">via GIPHY</a></p>"
   ]
  },
  {
   "cell_type": "code",
   "execution_count": null,
   "metadata": {},
   "outputs": [],
   "source": [
    "html = ''\n",
    "for k, v in out.items():\n",
    "    iid = k.replace('/', '-').rsplit('-')[-1]\n",
    "    html += f'<a href=\"{k}\" target=\"_blank\">{str(v)}</a><br><br>'\n",
    "    \n",
    "    #html += f'  <iframe src=\"https://giphy.com/embed/{iid}\" ></iframe><br>'\n",
    "    \n",
    "    #html += f\"\"\"<div style=\"width:100%;height:0;padding-bottom:75%;position:relative;\"><iframe src=\"https://giphy.com/embed/{iid}\" width=\"100%\" height=\"100%\" style=\"position:absolute\" frameBorder=\"0\" class=\"giphy-embed\" allowFullScreen></iframe></div>\"\"\"\n",
    "    \n",
    "    \n",
    "with open('../results/out.html', 'w') as f:\n",
    "    f.write(html)"
   ]
  },
  {
   "cell_type": "code",
   "execution_count": null,
   "metadata": {},
   "outputs": [],
   "source": []
  },
  {
   "cell_type": "code",
   "execution_count": null,
   "metadata": {},
   "outputs": [],
   "source": []
  },
  {
   "cell_type": "markdown",
   "metadata": {},
   "source": [
    "# Trash"
   ]
  },
  {
   "cell_type": "raw",
   "metadata": {},
   "source": [
    "HTML(html=r.text).xpath('//img')\n",
    "\n",
    "#src=\"https://media.giphy.com/media/fWfowxJtHySJ0SGCgN/giphy.gif\""
   ]
  },
  {
   "cell_type": "code",
   "execution_count": null,
   "metadata": {},
   "outputs": [],
   "source": []
  },
  {
   "cell_type": "raw",
   "metadata": {},
   "source": [
    "import re\n",
    "\n",
    "\n"
   ]
  },
  {
   "cell_type": "raw",
   "metadata": {},
   "source": [
    "x"
   ]
  },
  {
   "cell_type": "code",
   "execution_count": null,
   "metadata": {},
   "outputs": [],
   "source": []
  }
 ],
 "metadata": {
  "kernelspec": {
   "display_name": "Python 3",
   "language": "python",
   "name": "python3"
  },
  "language_info": {
   "codemirror_mode": {
    "name": "ipython",
    "version": 3
   },
   "file_extension": ".py",
   "mimetype": "text/x-python",
   "name": "python",
   "nbconvert_exporter": "python",
   "pygments_lexer": "ipython3",
   "version": "3.6.9"
  }
 },
 "nbformat": 4,
 "nbformat_minor": 2
}
