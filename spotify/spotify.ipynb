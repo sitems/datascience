{
 "cells": [
  {
   "cell_type": "raw",
   "metadata": {},
   "source": [
    "# TODO\n"
   ]
  },
  {
   "cell_type": "markdown",
   "metadata": {},
   "source": [
    "# Scrape"
   ]
  },
  {
   "cell_type": "code",
   "execution_count": null,
   "metadata": {},
   "outputs": [],
   "source": [
    "url = 'https://open.spotify.com/user/miro165sabo/playlist/2kxC9fJWg0aEanq3ylZR5i'\n",
    "\n",
    "from requests_html import HTMLSession\n",
    "\n",
    "session = HTMLSession()"
   ]
  },
  {
   "cell_type": "code",
   "execution_count": null,
   "metadata": {},
   "outputs": [],
   "source": [
    "r = session.get(url)\n",
    "r"
   ]
  },
  {
   "cell_type": "raw",
   "metadata": {},
   "source": [
    "for x in r.html.find('div.track-name-wrapper'):\n",
    "    print([s.text for s in x.find('span')])\n",
    "    print()"
   ]
  },
  {
   "cell_type": "code",
   "execution_count": null,
   "metadata": {},
   "outputs": [],
   "source": [
    "import json\n",
    "songs = json.loads(r.html.find('script')[-5].text.split('Spotify.Entity =')[1].strip(' ;'))['tracks']['items']"
   ]
  },
  {
   "cell_type": "code",
   "execution_count": null,
   "metadata": {},
   "outputs": [],
   "source": [
    "from pprint import pprint\n",
    "#pprint(songs[0])"
   ]
  },
  {
   "cell_type": "code",
   "execution_count": null,
   "metadata": {},
   "outputs": [],
   "source": [
    "data = []\n",
    "\n",
    "for song in songs:\n",
    "    track = song['track']\n",
    "    \n",
    "    info = {    \n",
    "        'name': track['name'],\n",
    "        'artists':[artist['name'] for artist in track['artists']],\n",
    "        'release_date':track['album']['release_date']\n",
    "    }\n",
    "    \n",
    "    info['artist_clean'] = info['artists'][0].split(',')[0]\n",
    "    info['name_clean'] =  (info['name'].split('(')[0] if info['name'].endswith(')') else info['name']).split('-')[0].strip()\n",
    "    #info['name_clean'] = info['name'].split('(')[0].split('-')[0].strip()\n",
    "    data.append(info)\n",
    "    \n",
    "import pandas as pd  \n",
    "# pd.set_option('display.max_rows', 500)\n",
    "# pd.set_option('display.max_columns', 500)\n",
    "# pd.set_option('display.width', 1000)\n",
    "# pd.options.display.width = 50\n",
    "# pd.options.display.max_colwidth = 50\n",
    "df = pd.DataFrame(data) \n",
    "df"
   ]
  },
  {
   "cell_type": "code",
   "execution_count": null,
   "metadata": {},
   "outputs": [],
   "source": []
  },
  {
   "cell_type": "markdown",
   "metadata": {},
   "source": [
    "# Timeline"
   ]
  },
  {
   "cell_type": "markdown",
   "metadata": {},
   "source": [
    "### From spotify album release_date (very inaccurate)"
   ]
  },
  {
   "cell_type": "code",
   "execution_count": null,
   "metadata": {},
   "outputs": [],
   "source": [
    "%matplotlib inline\n",
    "pd.Series([int(rd[:4]) for rd in df['release_date']]).value_counts().sort_index().plot(kind='bar')"
   ]
  },
  {
   "cell_type": "code",
   "execution_count": null,
   "metadata": {},
   "outputs": [],
   "source": []
  },
  {
   "cell_type": "markdown",
   "metadata": {},
   "source": [
    "### From wikipedia (accurate) "
   ]
  },
  {
   "cell_type": "code",
   "execution_count": null,
   "metadata": {},
   "outputs": [],
   "source": [
    "import wikipedia\n",
    "\n",
    "\n",
    "wikipedia.search(\"nicki french total eclipse of the heart\")"
   ]
  },
  {
   "cell_type": "markdown",
   "metadata": {},
   "source": [
    "# Download"
   ]
  },
  {
   "cell_type": "raw",
   "metadata": {},
   "source": [
    "r = session.get('https://www.youtube.com/results', params = {'search_query':'w.a. mozart figaro ouverture'})\n",
    "r"
   ]
  },
  {
   "cell_type": "raw",
   "metadata": {},
   "source": [
    "json.loads(r.html.find('script')[-3].text.split('=', 1)[1].split('; window')[0])['contents']['twoColumnSearchResultsRenderer']['primaryContents']['sectionListRenderer']['contents'][0]['itemSectionRenderer']['contents'][0]['videoRenderer']['videoId']"
   ]
  },
  {
   "cell_type": "code",
   "execution_count": null,
   "metadata": {},
   "outputs": [],
   "source": [
    "import subprocess\n",
    "from pathlib import Path\n",
    "\n",
    "downloaded = {p.stem.split('-')[-1] for p in Path('results/playlist/').glob(\"*.mp3\")}\n",
    "\n",
    "for _, song in df.iterrows():\n",
    "    q = f\"{song['artist_clean']} {song['name_clean']} hd\"\n",
    "    print(q)   \n",
    "    \n",
    "    try:\n",
    "        r = session.get('https://www.youtube.com/results', params = {'search_query':q})\n",
    "        vid = json.loads(r.html.find('script')[-3].text.split('=', 1)[1].split('; window')[0])['contents']['twoColumnSearchResultsRenderer']['primaryContents']['sectionListRenderer']['contents'][0]['itemSectionRenderer']['contents'][0]['videoRenderer']['videoId']             \n",
    "        print(vid)\n",
    "        if vid in downloaded: continue\n",
    "\n",
    "        subprocess.run(f'youtube-dl -o \"results/playlist/%(title)s-%(id)s.%(ext)s\" --extract-audio --audio-format mp3 {vid}', shell=True)\n",
    "        break\n",
    "    except:\n",
    "        print(f'Error: {q}')"
   ]
  },
  {
   "cell_type": "code",
   "execution_count": null,
   "metadata": {},
   "outputs": [],
   "source": []
  },
  {
   "cell_type": "code",
   "execution_count": null,
   "metadata": {},
   "outputs": [],
   "source": [
    "json.loads(r.html.find('script')[-3].text.split('=', 1)[1].split('; window')[0])['contents']['twoColumnSearchResultsRenderer']['primaryContents']['sectionListRenderer']['contents'][0]['itemSectionRenderer']['contents'][2]#"
   ]
  },
  {
   "cell_type": "markdown",
   "metadata": {},
   "source": [
    "# Trash"
   ]
  },
  {
   "cell_type": "code",
   "execution_count": null,
   "metadata": {},
   "outputs": [],
   "source": [
    "songs[0]['track']['name']"
   ]
  },
  {
   "cell_type": "code",
   "execution_count": null,
   "metadata": {},
   "outputs": [],
   "source": [
    "songs[0]['track']['artists'][0]['name']"
   ]
  },
  {
   "cell_type": "code",
   "execution_count": null,
   "metadata": {},
   "outputs": [],
   "source": [
    "songs[0]['track']['album']['release_date']"
   ]
  },
  {
   "cell_type": "code",
   "execution_count": null,
   "metadata": {},
   "outputs": [],
   "source": []
  }
 ],
 "metadata": {
  "kernelspec": {
   "display_name": "Python 3",
   "language": "python",
   "name": "python3"
  },
  "language_info": {
   "codemirror_mode": {
    "name": "ipython",
    "version": 3
   },
   "file_extension": ".py",
   "mimetype": "text/x-python",
   "name": "python",
   "nbconvert_exporter": "python",
   "pygments_lexer": "ipython3",
   "version": "3.6.8"
  }
 },
 "nbformat": 4,
 "nbformat_minor": 2
}
