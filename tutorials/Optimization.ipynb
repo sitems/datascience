{
 "cells": [
  {
   "cell_type": "raw",
   "metadata": {},
   "source": [
    "# todo\n",
    "greedy\n",
    "convex optimization\n",
    "dynamic programming\n",
    "OR tools\n",
    "kaggle competitions o optimalizacii\n",
    "\n"
   ]
  },
  {
   "cell_type": "markdown",
   "metadata": {
    "heading_collapsed": true
   },
   "source": [
    "# continuous"
   ]
  },
  {
   "cell_type": "code",
   "execution_count": null,
   "metadata": {
    "hidden": true
   },
   "outputs": [],
   "source": []
  },
  {
   "cell_type": "markdown",
   "metadata": {},
   "source": [
    "# discrete"
   ]
  },
  {
   "cell_type": "raw",
   "metadata": {},
   "source": [
    "-As opposed to continuous optimization, some or all of the variables used in a discrete mathematical program are restricted to be discrete variables—that is, to assume only a discrete set of values, such as the integers\n",
    "\n"
   ]
  },
  {
   "cell_type": "markdown",
   "metadata": {},
   "source": [
    "### combinatorial optimization"
   ]
  },
  {
   "cell_type": "raw",
   "metadata": {},
   "source": [
    "-refers to problems on graphs, matroids and other discrete structures\n",
    "-finding an optimal object from a finite set of objects"
   ]
  },
  {
   "cell_type": "raw",
   "metadata": {},
   "source": [
    "# Assignment problem\n",
    "-klucove je ze kazdy agent ma priradenu jednu a iba jednu ulohu\n",
    "-predstav si ze menezera ma pracovniikov A, B, C a ulohy 1, 2, 3.\n",
    "kazdemu cloveku trva splnenie inej ulohy iny cas, cize na vstupe mam maticu:\n",
    "  1 2 3\n",
    "A 2  3 4\n",
    "B 4 5 1\n",
    "C 1 2 4\n",
    "ciel je priradit zametnancom ulohy tak, aby to spravili co najskor\n",
    "\n",
    "\n",
    "\n",
    "\n",
    "# Closure problem\n",
    "-In graph theory and combinatorial optimization, a closure of a directed graph is a set of vertices with no outgoing edges. That is, the graph should have no edges that start within the closure and end outside the closure. The closure problem is the task of finding the maximum-weight or minimum-weight closure in a vertex-weighted directed graph.\n",
    "\n",
    "\n",
    "\n",
    "\n",
    "\n",
    "# Constraint satisfaction problem\n",
    "\n",
    "\n",
    "\n",
    "\n",
    "\n",
    "\n",
    "\n",
    "\n",
    "# Dominating set problem (1950)\n",
    "-mas graf a ulohou je najst taky subset vrcholov, ze ked k nim pripojim aj ine vrcholy, ktore su vo vzdialenosti 1 od moijich, dostanem cely graf ... a treba najst co najmensiu taku mnozinu vrcholov, ze ich zjednotenie s tymi susedmi je cely graf\n",
    "-https://en.wikipedia.org/wiki/Dominating_set#/media/File:Dominating-set.svg\n",
    "\n",
    "\n",
    "\n",
    "\n",
    "\n",
    "\n",
    "\n",
    "\n",
    "\n",
    "\n",
    "\n",
    "\n",
    "# Minimum relevant variables in linear system\n",
    "-The Min-RVLS problem is important in machine learning and linear discriminant analysis. Given a set of positive and negative examples, it is required to minimize the number of features that are required to correctly classify them.[3] The problem is known as the minimum feature set problem.\n",
    "-the input is a linear system, e.g.:\n",
    "Ax=b\n",
    "and the goal is to find a solution x with as few nonzero variables as possible.\n",
    "\n",
    "\n",
    "\n",
    "\n",
    "# Minimum spanning tree = minimalna kostra grafu\n",
    "-kruskalov algoritmus, primov algoritmus = jarnik, boruvkuv algoritmus\n",
    "-is a subset of the edges of a connected, edge-weighted undirected graph that connects all the vertices together, without any cycles and with the minimum possible total edge weight. That is, it is a spanning tree whose sum of edge weights is as small as possible.\n",
    "\n",
    "\n",
    "\n",
    "\n",
    "\n",
    "\n",
    "\n",
    "\n",
    "\n",
    "\n",
    "# Set cover problem\n",
    "-Given a set of elements {\\displaystyle \\{1,2,...,n\\}}\\{1,2,...,n\\} (called the universe) and a collection {\\displaystyle S}S of {\\displaystyle m}m sets whose union equals the universe, the set cover problem is to identify the smallest sub-collection of {\\displaystyle S}S whose union equals the universe. For example, consider the universe {\\displaystyle U=\\{1,2,3,4,5\\}}U=\\{1,2,3,4,5\\} and the collection of sets {\\displaystyle S=\\{\\{1,2,3\\},\\{2,4\\},\\{3,4\\},\\{4,5\\}\\}}S=\\{\\{1,2,3\\},\\{2,4\\},\\{3,4\\},\\{4,5\\}\\}. Clearly the union of {\\displaystyle S}S is {\\displaystyle U}U. However, we can cover all of the elements with the following, smaller number of sets: {\\displaystyle \\{\\{1,2,3\\},\\{4,5\\}\\}}\\{\\{1,2,3\\},\\{4,5\\}\\}.\n",
    "\n",
    "\n",
    "\n",
    "\n",
    "\n",
    "\n",
    "\n",
    "\n",
    "\n",
    "\n",
    "\n",
    "\n",
    "\n",
    "\n",
    "# Weapon target assignment problem\n",
    "-finding an optimal assignment of a set of weapons of various types to a set of targets in order to maximize the total expected damage done to the opponent.\n",
    "-Notice that as opposed to the classic assignment problem or the generalized assignment problem, more than one agent (i.e., weapon) can be assigned to each task (i.e., target) and not all targets are required to have weapons assigned.\n",
    "-In spite of the name, there are nonmilitary applications of the WTA. The main one is to search for a lost object or person by heterogeneous assets such as dogs, aircraft, walkers, etc. The problem is to assign the assets to a partition of the space in which the object is located to minimize the probability of not finding the object. The \"value\" of each element of the partition is the probability that the object is located there.\n",
    "-A commander has 5 tanks, 2 aircraft, and 1 sea vessel and is told to engage 3 targets with values 5, 10, and 20. Each weapon type has the following success probabilities against each target:\n",
    "Weapon Type\tV1   V2 V3\n",
    "Tank\t    0.3\t0.2\t0.5\n",
    "Aircraft\t0.1\t0.6\t0.5\n",
    "Sea Vessel\t0.4\t0.5\t0.4\n",
    "One feasible solution is to assign the sea vessel and one aircraft to the highest valued target (3). This results in an expected survival value of {\\displaystyle 20(0.6)(0.5)=6}20(0.6)(0.5)=6. One could then assign the remaining aircraft and 2 tanks to target #2, resulting in expected survival value of {\\displaystyle 10(0.4)(0.8)^{2}=2.56}10(0.4)(0.8)^{2}=2.56. Finally, the remaining 3 tanks are assigned to target #1 which has an expected survival value of {\\displaystyle 5(0.7)^{3}=1.715}5(0.7)^{3}=1.715. Thus, we have a total expected survival value of {\\displaystyle 6+2.56+1.715=10.275}6+2.56+1.715=10.275. Note that a better solution can be achieved by assigning 3 tanks to target #1, 2 tanks and sea vessel to target #2 and 2 aircraft to target #3, giving an expected survival value of {\\displaystyle 5(0.7)^{3}+10(0.5)(0.8)^{2}+20(0.5)^{2}=9.915}{\\displaystyle 5(0.7)^{3}+10(0.5)(0.8)^{2}+20(0.5)^{2}=9.915}.\n",
    "\n",
    "\n",
    "\n",
    "\n",
    "\n"
   ]
  },
  {
   "cell_type": "markdown",
   "metadata": {},
   "source": [
    "###### scheduling"
   ]
  },
  {
   "cell_type": "code",
   "execution_count": null,
   "metadata": {},
   "outputs": [],
   "source": [
    "Companies that manage extensive operations, which require assigning people and resources to tasks at specific times, need to solve difficult scheduling problems on a regular basis. Here are a couple of examples of such problems:\n",
    "\n",
    "Schedule employees in multiple shifts, subject to a complex set of constraints and staffing requirements.\n",
    "Schedule a manufacturing process that involves performing many tasks on a limited set of machines, each of which can do only one task at a time.\n",
    "\n",
    "\n",
    "\n",
    "\n",
    "\n",
    "\n",
    "\n",
    "# Nurse scheduling problem (1969)\n",
    "-Organizations whose employees work multiple shifts need to schedule sufficient workers for each daily shift. Typically, the schedules will have constraints, such as \"no employee should work two shifts in a row\". Finding a schedule that satisfies all constraints can be computationally difficult.\n",
    "In the next example, a hospital supervisor needs to create a schedule for four nurses over a three-day period, subject to the following conditions:\n",
    "Each day is divided into three 8-hour shifts.\n",
    "Every day, each shift is assigned to a single nurse, and no nurse works more than one shift.\n",
    "Each nurse is assigned to at least two shifts during the three-day period.\n",
    "\n",
    "\n",
    "\n",
    "\n",
    "\n",
    "\n",
    "# The Job Shop Problem (1966)\n",
    "-example (https://developers.google.com/optimization/scheduling/job_shop):\n",
    "    Below is a simple example of a job shop problem, in which each task is labeled by a pair of numbers (m, p) where m is the number of the machine the task must be processed on and p is the processing time of the task — the amount of time it requires. (The numbering of jobs and machines starts at 0.)\n",
    "job 0 = [(0, 3), (1, 2), (2, 2)]\n",
    "job 1 = [(0, 2), (2, 1), (1, 4)]\n",
    "job 2 = [(1, 4), (2, 3)]\n",
    "In the example, job 0 has three tasks. The first, (0, 3), must be processed on machine 0 in 3 units of time. The second, (1, 2), must be processed on machine 1 in 2 units of time, and so on. Altogether, there are eight tasks.\n",
    "ciel je to rozvrhnut tak, aby boli dodrzane constraints a aby som vsetky dzoby spravil co najskor vsetky tri (wall time)\n",
    "\n"
   ]
  },
  {
   "cell_type": "code",
   "execution_count": null,
   "metadata": {},
   "outputs": [],
   "source": []
  },
  {
   "cell_type": "markdown",
   "metadata": {},
   "source": [
    "###### routing"
   ]
  },
  {
   "cell_type": "code",
   "execution_count": null,
   "metadata": {},
   "outputs": [],
   "source": [
    "# Traveling salesman problem (1930)\n",
    "-Given a list of cities and the distances between each pair of cities, what is the shortest possible route that visits each city and returns to the origin city?\n",
    "-specialny pripad vehicle routing problemu, kde mam iba 1 auto\n",
    "\n",
    "# Vehicle routing problem\n",
    "-zovseobecnenie TSP\n",
    "\n",
    "\n",
    "\n",
    "\n",
    "\n",
    "# Vehicle rescheduling problem (2007)\n"
   ]
  },
  {
   "cell_type": "markdown",
   "metadata": {},
   "source": [
    "###### network flows"
   ]
  },
  {
   "cell_type": "code",
   "execution_count": null,
   "metadata": {},
   "outputs": [],
   "source": [
    "# max flow problem (1954)\n",
    "-cize na vstupe mam nod co je zdroj, nod co je vystup a potom kapacity hran .... a ciel je ku kapacitam napisat flowy, co su cisla, ktore musia splnat, ze ziadne neni vacsie ako dana kapacita (logicke) a sucet co do vrchla ide flowov musi byt to iste ako co vystupuje (kirchhoffov zakon) ... a treba napisat tie cisla tak, aby bolo maximalny sucet tych co vystupuju zo zdroja\n",
    "-A flow is an assignment of a non-negative number to each arc (the flow amount) that satisfies the following flow conservation rule:\n",
    "At each node, other than the source or the sink, the total flow of all arcs leading in to the node equals the total flow of all arcs leading out of it.\n",
    "-https://teorie-grafu.cz/vybrane-problemy/toky-v-sitich.php\n",
    "-the capacity of an arc is the maximum amount that can be transported across it in a fixed period of time\n",
    "-U silniční sítě by tedy kapacita odpovídala například množství aut, která mohou projet daným úsekem silnice za jednotku času (minutu)\n",
    "-Tok je funkce f přiřazující každé hraně nezáporné reálné číslo.. Pro každou hranu e platí, že tok danou hranou nemůže být větší než je kapacita této hrany.\n",
    "-Tok také musí splňovat Kirchhoffův zákon:\n",
    "Pro všechny vrcholy kromě zdroje a stoku platí, že součet toků na hranách vstupujících do vrcholu se musí rovnat součtu toků na hranách vycházejících z vrcholu.\n",
    "Velikost toku (v celém grafu) získáme jako součet toků ze zdroje."
   ]
  },
  {
   "cell_type": "markdown",
   "metadata": {},
   "source": [
    "###### bin packing"
   ]
  },
  {
   "cell_type": "code",
   "execution_count": null,
   "metadata": {},
   "outputs": [],
   "source": [
    "# Knapsack problem = problem batohu\n",
    "-umístění podmnožiny předmětů (předmět má specifikován svoji cenu a váhu) do přepravky omezené kapacity (nosnosti) tak, aby cena nákladu byla maximální. Předměty nelze dělit – buď jsou v přepravce umístěny celé, nebo zde nejsou vůbec.\n",
    "-The problem often arises in resource allocation where the decision makers have to choose from a set of non-divisible projects or tasks under a fixed budget or time constraint, respectively.\n",
    "-Multidimensional knapsack problems, in which the items have more than one physical quantity, such as weight and volume, and the knapsack has a capacity for each quantity. Here, the term dimension does not necessarily refer to the usual spatial dimensions of height, length, and width. However, some problems might involve spatial dimensions, for example, finding the optimal way to pack rectangular boxes into a rectangular storage bin.\n",
    "-Multiple knapsack problems, in which there are multiple knapsacks, and the goal is to maximize the total value of the packed items in all knapsacks.\n",
    "\n",
    "# bin packing problem\n",
    "-specialny pripad cutting stock problemu\n",
    "-Like the multiple knapsack problem, the bin packing problem also involves packing items into bins. However, the bin packing problem has a different objective: find the fewest bins that will hold all the items.\n",
    "The following summarizes the differences between the two problems:\n",
    "Multiple knapsack problem: Pack a subset of the items into a fixed number of bins, with varying capacities, so that the total value of the packed items is a maximum.\n",
    "Bin packing problem: Given as many bins with a common capacity as necessary, find the fewest that will hold all the items. In this problem, the items aren't assigned values, because the objective doesn't involve value.\n",
    "--One of the most well-known packing problems is bin-packing, in which there are multiple containers (called bins) of equal capacity. Unlike the multiple knapsack problem, the number of bins is not fixed. Instead, the goal is to find the smallest number of bins that will hold all the items.\n",
    "Here's a simple example to illustrate the difference between the multiple knapsack problem and the bin-packing problem. Suppose a company has delivery trucks, each of which has an 18,000 pound weight capacity, and 130,000 pounds of items to deliver.\n",
    "Multiple knapsack: You have five trucks and you want to load a subset of the items that has maximum weight onto them.\n",
    "Bin packing: You have 20 trucks (more than enough to hold all the items) and you want to use the fewest trucks that will hold them all.\n",
    "\n",
    "# Cutting stock problem (1939)\n",
    "-uloha je minimalizovat odpad\n",
    "-su varianty 1 rozmerne, 2 rozmerne, .... 1D je napriklad ze mas 2 truby dlhe 4 metre a 5 trubok dlhych 10 metrov a mas z toho ziskat 6 trubo dlhych 2 metre a 3 trubky dlhe 4 metre, a sprav to tak aby si co nejmenej vyhodil .... 2D uloha je zase plech, lebo ten ma aj sirku aj vysku\n",
    "-vraj sa redukuje na knapsack problem\n",
    "\n",
    "# guillotine problem\n",
    "...\n",
    "\n",
    "\n",
    "\n"
   ]
  },
  {
   "cell_type": "code",
   "execution_count": null,
   "metadata": {},
   "outputs": [],
   "source": []
  },
  {
   "cell_type": "markdown",
   "metadata": {},
   "source": [
    "### integer programming (1958)"
   ]
  },
  {
   "cell_type": "raw",
   "metadata": {},
   "source": [
    "-is a mathematical optimization or feasibility program in which some or all of the variables are restricted to be integers.\n",
    "-ulohou je maximalizovat f(x) pricom x moze byt iba na nejakej oblasti a iba cele cisla .... najcastejsie sa jedna o linearne programovanie=linearna optimalizacia, cize f(x) = cT*x, cize funkcia je linearna a aj tie constraints su lineatrne"
   ]
  },
  {
   "cell_type": "markdown",
   "metadata": {},
   "source": [
    "###### example: kagggle competition"
   ]
  },
  {
   "cell_type": "code",
   "execution_count": null,
   "metadata": {},
   "outputs": [],
   "source": [
    "https://www.kaggle.com/ben519/merry-christmas-y-all"
   ]
  },
  {
   "cell_type": "markdown",
   "metadata": {},
   "source": [
    "### constraint programming"
   ]
  },
  {
   "cell_type": "raw",
   "metadata": {},
   "source": [
    "-Constraint optimization, or constraint programming (CP), is the name given to identifying feasible solutions out of a very large set of candidates, where the problem can be modeled in terms of arbitrary constraints.\n",
    "CP is based on feasibility (finding a feasible solution) rather than optimization (finding an optimal solution) and focuses on the constraints and variables rather than the objective function. In fact, a CP problem may not even have an objective function — the goal may simply be to narrow down a vary large set of possible solutions to a more manageable subset by adding constraints to the problem.\n",
    "-An example of a problem that is well-suited for CP is employee scheduling. The problem arises when companies that operate continuously — such as factories — need to create weekly schedules for their employees. Here's a very simple example: a company runs three 8-hour shifts per day and assigns three of its four employees to different shifts each day, while giving the fourth the day off. Even in such a small case, the number of possible schedules is huge: each day, there are 4! = 4 · 3 · 2 · 1  = 24 possible employee assignments, so the number of possible weekly schedules is 247, which is over 4.5 billion. Usually there will be other constraints that reduce the number of feasible solutions — for example, that each employee works at least a minimum number of days per week. The CP method keeps track of which solutions remain feasible when you add new constraints, which makes it a powerful tool for solving large, real-world scheduling problems.\n",
    "-Two classic CP problems are the N-queens problem and cryptarithmetic puzzles.\n",
    "-A cryptarithmetic puzzle is a mathematical exercise where the digits of some numbers are represented by letters (or symbols). Each letter represents a unique digit. The goal is to find the digits such that a given mathematical equation is verified:\n",
    "      CP\n",
    "+     IS\n",
    "+    FUN\n",
    "--------\n",
    "=   TRUE\n",
    "One assignment of letters to digits yields the following equation:\n",
    "      23\n",
    "+     74\n",
    "+    968\n",
    "--------\n",
    "=   1065\n",
    "There are other answers to this problem. We'll show how to find all solutions.\n",
    "-In the following sections, we'll illustrate constraint programming (CP) by a combinatorial problem based on the game of chess. In chess, a queen can attack horizontally, vertically, and diagonally. The N-queens problem asks:\n",
    "How can N queens be placed on an NxN chessboard so that no two of them attack each other?\n",
    "Below, you can see one possible solution to the N-queens problem for N = 4."
   ]
  },
  {
   "cell_type": "markdown",
   "metadata": {},
   "source": [
    "# Misc"
   ]
  },
  {
   "cell_type": "raw",
   "metadata": {},
   "source": [
    "# subset sum problem\n",
    "In computer science, the subset sum problem is an important decision problem in complexity theory and cryptography. There are several equivalent formulations of the problem. One of them is: given a set (or multiset) of integers, is there a non-empty subset whose sum is zero? For example, given the set {\\displaystyle \\{-7,-3,-2,9000,5,8\\}}{\\displaystyle \\{-7,-3,-2,9000,5,8\\}}, the answer is yes because the subset {\\displaystyle \\{-3,-2,5\\}}{\\displaystyle \\{-3,-2,5\\}} sums to zero. The problem is NP-complete, meaning roughly that while it is easy to confirm whether a proposed solution is valid, it may inherently be prohibitively difficult to determine in the first place whether any solution exists.\n",
    "\n",
    "\n",
    "\n",
    "\n",
    "# partition problem\n",
    "-In number theory and computer science, the partition problem, or number partitioning,[1] is the task of deciding whether a given multiset S of positive integers can be partitioned into two subsets S1 and S2 such that the sum of the numbers in S1 equals the sum of the numbers in S2. Although the partition problem is NP-complete, there is a pseudo-polynomial time dynamic programming solution, and there are heuristics that solve the problem in many instances, either optimally or approximately. For this reason, it has been called \"the easiest hard problem\".\n",
    "-Given S = {3,1,1,2,2,1}, a valid solution to the partition problem is the two sets S1 = {1,1,1,2} and S2 = {2,3}. Both sets sum to 5, and they partition S. Note that this solution is not unique. S1 = {3,1,1} and S2 = {2,2,1} is another solution.\n",
    "Not every multiset of positive integers has a partition into two subsets with equal sum. An example of such a set is S = {2,5}."
   ]
  },
  {
   "cell_type": "code",
   "execution_count": null,
   "metadata": {},
   "outputs": [],
   "source": []
  }
 ],
 "metadata": {
  "kernelspec": {
   "display_name": "Python 3",
   "language": "python",
   "name": "python3"
  },
  "language_info": {
   "codemirror_mode": {
    "name": "ipython",
    "version": 3
   },
   "file_extension": ".py",
   "mimetype": "text/x-python",
   "name": "python",
   "nbconvert_exporter": "python",
   "pygments_lexer": "ipython3",
   "version": "3.6.9"
  }
 },
 "nbformat": 4,
 "nbformat_minor": 2
}
