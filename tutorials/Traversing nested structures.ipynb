{
 "cells": [
  {
   "cell_type": "markdown",
   "metadata": {},
   "source": [
    "# Example 1 (dicty v dictoch, vypisat iba leafy)"
   ]
  },
  {
   "cell_type": "code",
   "execution_count": null,
   "metadata": {},
   "outputs": [],
   "source": [
    "data = {\n",
    "    'xml': {\n",
    "        'a': 'ff',\n",
    "        'config': {\n",
    "            'portstatus': {\n",
    "                'status': 'good'\n",
    "            }, \n",
    "            'target': '1'},      \n",
    "        'port': '11'\n",
    "    }\n",
    "}"
   ]
  },
  {
   "cell_type": "code",
   "execution_count": null,
   "metadata": {},
   "outputs": [],
   "source": [
    "# https://stackoverflow.com/questions/10756427/loop-through-all-nested-dictionary-values\n",
    "\n",
    "def f(data):\n",
    "    for k, v in data.items():\n",
    "        if isinstance(v, dict):\n",
    "            f(v)\n",
    "        else:\n",
    "            print(k, v)\n",
    "\n",
    "f(data)"
   ]
  },
  {
   "cell_type": "markdown",
   "metadata": {},
   "source": [
    "# Example 2 (dicty v dictoch, vypisat celu cestu)"
   ]
  },
  {
   "cell_type": "code",
   "execution_count": null,
   "metadata": {},
   "outputs": [],
   "source": [
    "def f(data, pre=None):\n",
    "    if pre is None:\n",
    "        pre = []\n",
    "        \n",
    "    for k, v in data.items():\n",
    "        if isinstance(v, dict):\n",
    "            f(v, pre=pre+[k])\n",
    "        else:\n",
    "            print(pre + [k, v])\n",
    "\n",
    "f(data)"
   ]
  },
  {
   "cell_type": "code",
   "execution_count": null,
   "metadata": {},
   "outputs": [],
   "source": []
  },
  {
   "cell_type": "markdown",
   "metadata": {},
   "source": [
    "# Example 2 (dicty a listy miesane)"
   ]
  },
  {
   "cell_type": "code",
   "execution_count": null,
   "metadata": {},
   "outputs": [],
   "source": [
    "# https://stackoverflow.com/questions/12507206/how-to-completely-traverse-a-complex-dictionary-of-unknown-depth\n",
    "data = {\n",
    "    u'body': [\n",
    "        {\n",
    "            u'declarations': [{u'id': {u'name': u'i',\n",
    "                                       u'type': u'Identifier'},\n",
    "                               u'init': {u'type': u'Literal', u'value': 2},\n",
    "                               u'type': u'VariableDeclarator'}],\n",
    "               \n",
    "            u'kind': u'var',\n",
    "            u'type': u'VariableDeclaration'\n",
    "        },\n",
    "        {\n",
    "            u'declarations': [{u'id': {u'name': u'j',\n",
    "                                       u'type': u'Identifier'},\n",
    "                               u'init': {u'type': u'Literal', u'value': 4},\n",
    "                               u'type': u'VariableDeclarator'}],\n",
    "            u'kind': u'var',\n",
    "            u'type': u'VariableDeclaration'\n",
    "        },\n",
    "        {\n",
    "            u'declarations': [{u'id': {u'name': u'answer',\n",
    "                                       u'type': u'Identifier'},\n",
    "                               u'init': {u'left': {u'name': u'i',\n",
    "                                                   u'type': u'Identifier'},\n",
    "                                         u'operator': u'*',\n",
    "                                         u'right': {u'name': u'j',\n",
    "                                                    u'type': u'Identifier'},\n",
    "                                         u'type': u'BinaryExpression'},\n",
    "                               u'type': u'VariableDeclarator'\n",
    "                              }],\n",
    "            u'kind': u'var',\n",
    "            u'type': u'VariableDeclaration'\n",
    "        }\n",
    "    ],\n",
    "    u'type': u'Program',\n",
    "    #'test':['a']\n",
    "}"
   ]
  },
  {
   "cell_type": "code",
   "execution_count": null,
   "metadata": {
    "scrolled": true
   },
   "outputs": [],
   "source": [
    "# predpoklada iba dict, v ktorom su bu stringy ako values, alebo dicty, alebo listy dictov\n",
    "def f(data, pre=None):\n",
    "    if pre is None:\n",
    "        pre=  []\n",
    "        \n",
    "    for k, v in data.items():\n",
    "        if isinstance(v, list):\n",
    "            for item in v:\n",
    "                f(item, pre + [k])\n",
    "        elif isinstance(v, dict):\n",
    "            f(v, pre + [k] )\n",
    "        else:\n",
    "            print(pre + [k, v] )\n",
    "\n",
    "f(data)"
   ]
  },
  {
   "cell_type": "code",
   "execution_count": null,
   "metadata": {},
   "outputs": [],
   "source": []
  },
  {
   "cell_type": "code",
   "execution_count": null,
   "metadata": {},
   "outputs": [],
   "source": []
  },
  {
   "cell_type": "code",
   "execution_count": null,
   "metadata": {},
   "outputs": [],
   "source": []
  },
  {
   "cell_type": "code",
   "execution_count": null,
   "metadata": {
    "scrolled": true
   },
   "outputs": [],
   "source": [
    "# riesenie zo stackoverflow (zohladnuje asi aj situaciu, ked tam moze byt napriklad ['a', 'b'])\n",
    "def dict_generator(indict, pre=None):\n",
    "    pre = pre[:] if pre else []\n",
    "    if isinstance(indict, dict):\n",
    "        for key, value in indict.items():\n",
    "            if isinstance(value, dict):\n",
    "                for d in dict_generator(value, pre + [key]):\n",
    "                    yield d\n",
    "            elif isinstance(value, list) or isinstance(value, tuple):\n",
    "                for v in value:\n",
    "                    for d in dict_generator(v, pre + [key]):\n",
    "                        yield d\n",
    "            else:\n",
    "                yield pre + [key, value]\n",
    "    else:\n",
    "        yield pre + [indict]\n",
    "        \n",
    "for x in dict_generator(data):\n",
    "    print(x)"
   ]
  },
  {
   "cell_type": "markdown",
   "metadata": {},
   "source": [
    "# Example 3 (premena na generatory)"
   ]
  },
  {
   "cell_type": "raw",
   "metadata": {},
   "source": [
    "What are the situations where \"yield from\" is useful?\n",
    "\n",
    "Every situation where you have a loop like this:\n",
    "\n",
    "for x in subgenerator:\n",
    "  yield x\n",
    "As the PEP describes, this is a rather naive attempt at using the subgenerator, it's missing several aspects, especially the proper handling of the .throw()/.send()/.close() mechanisms introduced by PEP 342. To do this properly, rather complicated code is necessary.\n",
    "\n",
    "What is the classic use case?\n",
    "\n",
    "Consider that you want to extract information from a recursive data structure. Let's say we want to get all leaf nodes in a tree:\n",
    "\n",
    "def traverse_tree(node):\n",
    "  if not node.children:\n",
    "    yield node\n",
    "  for child in node.children:\n",
    "    yield from traverse_tree(child)\n",
    "Even more important is the fact that until the yield from, there was no simple method of refactoring the generator code. Suppose you have a (senseless) generator like this:\n",
    "\n",
    "def get_list_values(lst):\n",
    "  for item in lst:\n",
    "    yield int(item)\n",
    "  for item in lst:\n",
    "    yield str(item)\n",
    "  for item in lst:\n",
    "    yield float(item)\n",
    "Now you decide to factor out these loops into separate generators. Without yield from, this is ugly, up to the point where you will think twice whether you actually want to do it. With yield from, it's actually nice to look at:\n",
    "\n",
    "def get_list_values(lst):\n",
    "  for sub in [get_list_values_as_int, \n",
    "              get_list_values_as_str, \n",
    "              get_list_values_as_float]:\n",
    "    yield from sub(lst)\n",
    "Why is it compared to micro-threads?\n",
    "\n",
    "I think what this section in the PEP is talking about is that every generator does have its own isolated execution context. Together with the fact that execution is switched between the generator-iterator and the caller using yield and __next__(), respectively, this is similar to threads, where the operating system switches the executing thread from time to time, along with the execution context (stack, registers, ...).\n",
    "\n",
    "The effect of this is also comparable: Both the generator-iterator and the caller progress in their execution state at the same time, their executions are interleaved. For example, if the generator does some kind of computation and the caller prints out the results, you'll see the results as soon as they're available. This is a form of concurrency.\n",
    "\n",
    "That analogy isn't anything specific to yield from, though - it's rather a general property of generators in Python."
   ]
  },
  {
   "cell_type": "markdown",
   "metadata": {},
   "source": [
    "# Example 4 (tree)"
   ]
  },
  {
   "cell_type": "code",
   "execution_count": null,
   "metadata": {},
   "outputs": [],
   "source": []
  }
 ],
 "metadata": {
  "kernelspec": {
   "display_name": "Python 3",
   "language": "python",
   "name": "python3"
  },
  "language_info": {
   "codemirror_mode": {
    "name": "ipython",
    "version": 3
   },
   "file_extension": ".py",
   "mimetype": "text/x-python",
   "name": "python",
   "nbconvert_exporter": "python",
   "pygments_lexer": "ipython3",
   "version": "3.6.9"
  }
 },
 "nbformat": 4,
 "nbformat_minor": 2
}
