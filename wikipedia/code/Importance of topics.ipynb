{
 "cells": [
  {
   "cell_type": "code",
   "execution_count": null,
   "metadata": {},
   "outputs": [],
   "source": [
    "from requests_html import HTMLSession\n",
    "import requests\n",
    "import wptools\n",
    "from tqdm import tqdm\n",
    "from mwviews.api import PageviewsClient\n",
    "import pandas as pd\n",
    "import plotly\n",
    "import plotly.express as px\n",
    "import json\n",
    "from furl import furl\n",
    "\n",
    "pd.set_option('display.max_columns', None)"
   ]
  },
  {
   "cell_type": "code",
   "execution_count": null,
   "metadata": {},
   "outputs": [],
   "source": []
  },
  {
   "cell_type": "markdown",
   "metadata": {
    "heading_collapsed": true
   },
   "source": [
    "# Get links"
   ]
  },
  {
   "cell_type": "code",
   "execution_count": null,
   "metadata": {
    "hidden": true
   },
   "outputs": [],
   "source": [
    "seed = 'List of pharaohs'\n",
    "\n",
    "page = wptools.page(seed, lang='en')"
   ]
  },
  {
   "cell_type": "raw",
   "metadata": {
    "hidden": true
   },
   "source": [
    "import warnings\n",
    "\n",
    "with warnings.catch_warnings():\n",
    "    warnings.simplefilter(\"ignore\")\n",
    "    page.get()"
   ]
  },
  {
   "cell_type": "code",
   "execution_count": null,
   "metadata": {
    "hidden": true
   },
   "outputs": [],
   "source": [
    "page.get()"
   ]
  },
  {
   "cell_type": "raw",
   "metadata": {
    "hidden": true
   },
   "source": [
    "session = HTMLSession()\n",
    "\n",
    "r = session.get('https://en.wikipedia.org/wiki/List_of_pharaohs')\n",
    "r"
   ]
  },
  {
   "cell_type": "raw",
   "metadata": {
    "hidden": true,
    "scrolled": true
   },
   "source": [
    "links = set()\n",
    "\n",
    "for a in r.html.find('div#mw-content-text a[href^=\"/wiki/\"]'):\n",
    "    attrs = a.attrs\n",
    "    if len(attrs) == 2 and 'href' in attrs and 'title' in attrs and ':' not in attrs['title']:\n",
    "        links.add(attrs['title'])\n",
    "        \n",
    "len(links)        "
   ]
  },
  {
   "cell_type": "raw",
   "metadata": {
    "hidden": true
   },
   "source": [
    "#import pandas as pd\n",
    "\n",
    "r = HTMLSession().get('https://en.wikipedia.org/wiki/Eighteenth_Dynasty_of_Egypt')"
   ]
  },
  {
   "cell_type": "raw",
   "metadata": {
    "hidden": true
   },
   "source": [
    "#from furl import furl\n",
    "#[furl(a.attrs['href']).asdict()['path']['segments'][-1] for a in r.html.find('table.wikitable tr td:first-of-type a')]\n",
    "links  = [a.attrs['title'] for a in r.html.find('table.wikitable tr td:first-of-type a')]\n",
    "len(links)"
   ]
  },
  {
   "cell_type": "code",
   "execution_count": null,
   "metadata": {
    "hidden": true
   },
   "outputs": [],
   "source": [
    "links = page.data['links']"
   ]
  },
  {
   "cell_type": "code",
   "execution_count": null,
   "metadata": {
    "hidden": true
   },
   "outputs": [],
   "source": [
    "len(page.data['links'])"
   ]
  },
  {
   "cell_type": "markdown",
   "metadata": {
    "heading_collapsed": true
   },
   "source": [
    "# Get features of links"
   ]
  },
  {
   "cell_type": "code",
   "execution_count": null,
   "metadata": {
    "hidden": true
   },
   "outputs": [],
   "source": []
  },
  {
   "cell_type": "code",
   "execution_count": null,
   "metadata": {
    "hidden": true
   },
   "outputs": [],
   "source": [
    "\n",
    "df_list = []\n",
    "\n",
    "for link in tqdm(set(links)):\n",
    "    try:\n",
    "        p = wptools.page(link, lang='en')\n",
    "        p.get()\n",
    "        df_list.append(p.data)\n",
    "    except Exception as e:\n",
    "        print('ERROR', link, str(e))"
   ]
  },
  {
   "cell_type": "code",
   "execution_count": null,
   "metadata": {
    "hidden": true
   },
   "outputs": [],
   "source": []
  },
  {
   "cell_type": "code",
   "execution_count": null,
   "metadata": {
    "hidden": true
   },
   "outputs": [],
   "source": [
    "df = pd.DataFrame(df_list)\n",
    "df.shape"
   ]
  },
  {
   "cell_type": "code",
   "execution_count": null,
   "metadata": {
    "hidden": true
   },
   "outputs": [],
   "source": [
    "# Sends a descriptive User-Agent header with every request\n",
    "pc = PageviewsClient(user_agent=\"person@organization.org Selfie, Cat, and Dog analysis\")\n",
    "\n",
    "#p.article_views('en.wikipedia', ['Selfie', 'Cat', 'Dog'])\n",
    "#p.project_views(['ro.wikipedia', 'de.wikipedia', 'commons.wikimedia'])\n",
    "#p.top_articles('en.wikipedia', limit=10)\n",
    "\n",
    "#articles = df.query('what == \"human\"')['title'].tolist()\n",
    "\n",
    "df['pageviews'] = list(pc.article_views('en.wikipedia', df['title'].tolist(), granularity='monthly', start='20191001', end='20191031').values())[0].values()\n",
    "# = list(out.values())[0]\n",
    "# Feel free to add your own features in pull requests!"
   ]
  },
  {
   "cell_type": "raw",
   "metadata": {
    "hidden": true
   },
   "source": [
    "xx = pc.article_views('en.wikipedia', df['title'].tolist(), granularity='monthly', start='20191001', end='20191031')\n",
    "xx"
   ]
  },
  {
   "cell_type": "raw",
   "metadata": {
    "hidden": true
   },
   "source": [
    "xx.val"
   ]
  },
  {
   "cell_type": "code",
   "execution_count": null,
   "metadata": {
    "hidden": true
   },
   "outputs": [],
   "source": [
    "df.to_pickle(f'../results/{seed}.pkl')\n",
    "df.shape"
   ]
  },
  {
   "cell_type": "code",
   "execution_count": null,
   "metadata": {
    "hidden": true
   },
   "outputs": [],
   "source": [
    "#df.memory_usage(deep=True).sort_values()"
   ]
  },
  {
   "cell_type": "code",
   "execution_count": null,
   "metadata": {
    "hidden": true
   },
   "outputs": [],
   "source": [
    "to_drop =  ['parsetree', 'wikitext', 'links', 'extext', 'extract', 'WARNINGS', 'exrest', 'exhtml']\n",
    "df.drop(to_drop, axis=1).to_csv('../results/df.csv', index=False)"
   ]
  },
  {
   "cell_type": "code",
   "execution_count": null,
   "metadata": {
    "hidden": true
   },
   "outputs": [],
   "source": [
    "df.drop(to_drop, axis=1).to_excel('../results/df.xlsx', index=False)"
   ]
  },
  {
   "cell_type": "raw",
   "metadata": {
    "hidden": true
   },
   "source": [
    "import json\n",
    "# ?action=query&format=json&titles=Ladislaus the Posthumous&prop=revisions&rvprop=size\n",
    "url = 'https://en.wikipedia.org/w/api.php'\n",
    "\n",
    "params = {\n",
    "    #'srsearch': '|'.join([ 'Ladislaus the Posthumous', 'Georges Daressy']),\n",
    "    #'titles': '|'.join([ 'Ladislaus the Posthumous', 'Georges Daressy']),\n",
    "\n",
    "    'action':'query', \n",
    "    'format':'json', \n",
    "    'prop':'revisions', \n",
    "    'rvprop':'size'\n",
    "}\n",
    "\n",
    "def chunker(seq, size):\n",
    "    return (seq[pos:pos + size] for pos in range(0, len(seq), size))\n",
    "\n",
    "sizes = {}\n",
    "\n",
    "for batch in chunker(sorted(links), 50):\n",
    "    print(len(batch))\n",
    "    r = requests.get(url, params = {**params, 'titles':'|'.join(batch)})\n",
    "    sizes_batch = {v['title']:v['revisions'][0]['size'] for v in r.json()['query']['pages'].values()}    \n",
    "    sizes.update(sizes_batch)"
   ]
  },
  {
   "cell_type": "raw",
   "metadata": {
    "hidden": true
   },
   "source": [
    "{k: v for k, v in sorted(sizes.items(), key=lambda item: -item[1])}\n"
   ]
  },
  {
   "cell_type": "raw",
   "metadata": {
    "hidden": true
   },
   "source": [
    "url = 'https://en.wikipedia.org/w/api.php?action=query&rvprop=content&prop=categories&format=json&titles=Ramesses II'\n",
    "\n",
    "title = 'Ramesses II'\n",
    "url = f'http://en.wikipedia.org/w/api.php?action=query&prop=revisions&rvprop=content&format=json&titles={title}&rvsection=0'\n",
    "\n",
    "r = requests.get(url)"
   ]
  },
  {
   "cell_type": "raw",
   "metadata": {
    "hidden": true
   },
   "source": [
    "print(r.json()['query']['pages']['21476519']['revisions'][0]['*'])\n",
    "\n",
    "\n",
    ">>> import wptools\n",
    ">>> so = wptools.page('Stack Overflow').get_parse()\n",
    ">>> so.infobox"
   ]
  },
  {
   "cell_type": "raw",
   "metadata": {
    "hidden": true
   },
   "source": [
    "list(r2.json()['query']['pages'].values())[0]['revisions'][0]['size']"
   ]
  },
  {
   "cell_type": "code",
   "execution_count": null,
   "metadata": {
    "hidden": true
   },
   "outputs": [],
   "source": []
  },
  {
   "cell_type": "markdown",
   "metadata": {},
   "source": [
    "# Superrychla varianta"
   ]
  },
  {
   "cell_type": "raw",
   "metadata": {},
   "source": [
    "tuto treba manualne zadat css, ake linky chcem a potom to k nim stiahne iba pws a vysledok ulozi na disk\n",
    "odtial to prilepim napriklad do d3.js bubble chart layoutu"
   ]
  },
  {
   "cell_type": "code",
   "execution_count": null,
   "metadata": {},
   "outputs": [],
   "source": [
    "# stiahne ubodnu stranku\n",
    "r = HTMLSession().get('https://en.wikipedia.org/wiki/Index_of_ancient_Egypt-related_articles')\n",
    "\n",
    "# scrapne pozadovane linky\n",
    "css = \"div#mw-content-text > div.mw-parser-output > div[class='hlist'] a\"\n",
    "titles = [furl(a.attrs['href']).asdict()['path']['segments'][-1] for a in r.html.find(css)]\n",
    "print(len(titles))\n",
    "\n",
    "# stiahne pageviewsy\n",
    "pws = list(PageviewsClient(user_agent=\"person@organization.org Selfie, Cat, and Dog analysis\").article_views('en.wikipedia', titles, granularity='monthly', start='20191001', end='20191031').values())[0].values()\n",
    "\n",
    "# pripravi strukturu pre JS\n",
    "data = [{'Name':x, 'Count':y, 'url':f'https://en.wikipedia.org/wiki/{x}'} for x, y in zip(titles, pws)]\n",
    "with open('../results/data.txt', 'w') as f:\n",
    "    f.write(json.dumps(data))"
   ]
  },
  {
   "cell_type": "code",
   "execution_count": null,
   "metadata": {},
   "outputs": [],
   "source": []
  },
  {
   "cell_type": "markdown",
   "metadata": {},
   "source": [
    "# DS"
   ]
  },
  {
   "cell_type": "code",
   "execution_count": null,
   "metadata": {},
   "outputs": [],
   "source": [
    "df = pd.read_pickle('../results/List of pharaohs.pkl')"
   ]
  },
  {
   "cell_type": "code",
   "execution_count": null,
   "metadata": {},
   "outputs": [],
   "source": [
    "tops = df['what'].value_counts().head(20).index\n",
    "df['what_top'] = [x if x in tops else 'other' for x in df['what']] "
   ]
  },
  {
   "cell_type": "code",
   "execution_count": null,
   "metadata": {},
   "outputs": [],
   "source": [
    "fig = px.scatter(\n",
    "    df, \n",
    "    x='length', y='watchers', \n",
    "    color = 'what_top',\n",
    "    hover_data=['title'])\n",
    "\n",
    "fig.update_xaxes(type=\"log\")\n",
    "fig.update_yaxes(type=\"log\")\n",
    "fig.show()"
   ]
  },
  {
   "cell_type": "code",
   "execution_count": null,
   "metadata": {
    "scrolled": true
   },
   "outputs": [],
   "source": []
  },
  {
   "cell_type": "code",
   "execution_count": null,
   "metadata": {
    "scrolled": true
   },
   "outputs": [],
   "source": [
    "plotly.offline.plot(fig, filename = '../results/plotly.html', auto_open=False)"
   ]
  },
  {
   "cell_type": "code",
   "execution_count": null,
   "metadata": {},
   "outputs": [],
   "source": [
    "#df.query('what == \"human\"')[['url', 'length', 'watchers']].sample(10)"
   ]
  },
  {
   "cell_type": "raw",
   "metadata": {},
   "source": [
    "import requests\n",
    "r = requests.get('https://wikimedia.org/api/rest_v1/metrics/pageviews/per-article/en.wikipedia/all-access/user/Foo/daily/20151010/20151012')\n"
   ]
  },
  {
   "cell_type": "raw",
   "metadata": {},
   "source": [
    "r.json()"
   ]
  },
  {
   "cell_type": "code",
   "execution_count": null,
   "metadata": {},
   "outputs": [],
   "source": [
    "# vystup pre d3.js bubble chart https://bl.ocks.org/alokkshukla/3d6be4be0ef9f6977ec6718b2916d168\n",
    "list(df[['pageviews', 'title', 'url']].rename(columns={'pageviews':'Count', 'title':'Name'}).T.to_dict().values())"
   ]
  },
  {
   "cell_type": "code",
   "execution_count": null,
   "metadata": {},
   "outputs": [],
   "source": []
  },
  {
   "cell_type": "code",
   "execution_count": null,
   "metadata": {},
   "outputs": [],
   "source": []
  },
  {
   "cell_type": "code",
   "execution_count": null,
   "metadata": {},
   "outputs": [],
   "source": []
  },
  {
   "cell_type": "code",
   "execution_count": null,
   "metadata": {},
   "outputs": [],
   "source": []
  },
  {
   "cell_type": "markdown",
   "metadata": {
    "heading_collapsed": true
   },
   "source": [
    "# References"
   ]
  },
  {
   "cell_type": "raw",
   "metadata": {
    "hidden": true
   },
   "source": [
    "https://stackoverflow.com/questions/14882571/how-to-get-all-urls-in-a-wikipedia-page\n",
    "https://stackoverflow.com/questions/18831020/wikipedia-mediawiki-api-find-if-an-article-is-about-a-person-organization-or    \n",
    "https://stackoverflow.com/questions/6168020/what-is-wikipedia-pageid-how-to-change-it-into-real-page-url    \n",
    "https://stackoverflow.com/questions/33862336/how-to-extract-information-from-a-wikipedia-infobox/33862337#33862337\n",
    "https://stackoverflow.com/questions/36262748/python-save-plotly-plot-to-local-file-and-insert-into-html\n",
    "https://stackoverflow.com/questions/5323589/how-to-use-wikipedia-api-to-get-the-page-view-statistics-of-a-particular-page-in\n",
    "https://wikitech.wikimedia.org/wiki/Analytics/AQS/Pageviews\n",
    "https://github.com/mediawiki-utilities/python-mwviews"
   ]
  },
  {
   "cell_type": "markdown",
   "metadata": {},
   "source": [
    "# Trash"
   ]
  },
  {
   "cell_type": "code",
   "execution_count": null,
   "metadata": {},
   "outputs": [],
   "source": [
    "r = HTMLSession().get('https://en.wikipedia.org/wiki/List_of_presidents_of_the_United_States')\n",
    "\n",
    "\n",
    "\n"
   ]
  },
  {
   "cell_type": "code",
   "execution_count": null,
   "metadata": {},
   "outputs": [],
   "source": [
    "css = \"div#mw-content-text > div.mw-parser-output tr > td > b > big > a\"\n",
    "r.html.find(css)"
   ]
  },
  {
   "cell_type": "code",
   "execution_count": null,
   "metadata": {},
   "outputs": [],
   "source": [
    "print(len(r.html.find(css)))\n",
    "\n",
    "from furl import furl\n",
    "titles = [furl(a.attrs['href']).asdict()['path']['segments'][-1] for a in r.html.find(css)]\n",
    "len(titles)"
   ]
  },
  {
   "cell_type": "code",
   "execution_count": null,
   "metadata": {},
   "outputs": [],
   "source": [
    "pws = list(PageviewsClient(user_agent=\"person@organization.org Selfie, Cat, and Dog analysis\").article_views('en.wikipedia', titles, granularity='monthly', start='20191001', end='20191031').values())[0].values()\n",
    "\n",
    "data = [{'Name':x, 'Count':y, 'url':f'https://en.wikipedia.org/wiki/{x}'} for x, y in zip(titles, pws)]\n",
    "\n",
    "import json\n",
    "\n"
   ]
  },
  {
   "cell_type": "code",
   "execution_count": null,
   "metadata": {},
   "outputs": [],
   "source": [
    "with open('../results/data.txt', 'w') as f:\n",
    "    f.write(json.dumps(data))"
   ]
  },
  {
   "cell_type": "code",
   "execution_count": null,
   "metadata": {},
   "outputs": [],
   "source": []
  },
  {
   "cell_type": "raw",
   "metadata": {},
   "source": [
    "import pandas as pd\n",
    "\n",
    "dfs =pd.read_html('https://en.wikipedia.org/wiki/List_of_pharaohs#Ancient_Egyptian_king_lists')\n"
   ]
  },
  {
   "cell_type": "raw",
   "metadata": {},
   "source": [
    "data = []\n",
    "\n",
    "for df in dfs:\n",
    "    if set(df.columns) == set(['Name', 'Image', 'Comments', 'Dates']):\n",
    "        data.append(df)"
   ]
  },
  {
   "cell_type": "code",
   "execution_count": null,
   "metadata": {},
   "outputs": [],
   "source": [
    "pd.concat(data).drop_duplicates().shape"
   ]
  },
  {
   "cell_type": "raw",
   "metadata": {},
   "source": [
    "import wptools\n",
    "\n",
    "page = wptools.page('Nehesy')"
   ]
  },
  {
   "cell_type": "raw",
   "metadata": {},
   "source": [
    "page.get()"
   ]
  },
  {
   "cell_type": "code",
   "execution_count": null,
   "metadata": {
    "scrolled": true
   },
   "outputs": [],
   "source": []
  },
  {
   "cell_type": "code",
   "execution_count": null,
   "metadata": {},
   "outputs": [],
   "source": []
  },
  {
   "cell_type": "raw",
   "metadata": {},
   "source": [
    "import wikipedia\n",
    "ny = wikipedia.page(\"Index_of_ancient_Egypt-related_articles\")"
   ]
  },
  {
   "cell_type": "raw",
   "metadata": {},
   "source": [
    "import pandas as pd\n",
    "pd.set_option('display.max_columns', None)\n",
    "\n",
    "pd.DataFrame([page.data])"
   ]
  },
  {
   "cell_type": "raw",
   "metadata": {},
   "source": [
    "len(page.data['links'])"
   ]
  },
  {
   "cell_type": "raw",
   "metadata": {},
   "source": [
    "for k, v in page.data.items():\n",
    "    print(k)\n",
    "    print(v)\n",
    "    print('*'*40)"
   ]
  },
  {
   "cell_type": "code",
   "execution_count": null,
   "metadata": {},
   "outputs": [],
   "source": []
  },
  {
   "cell_type": "code",
   "execution_count": null,
   "metadata": {},
   "outputs": [],
   "source": []
  },
  {
   "cell_type": "raw",
   "metadata": {},
   "source": [
    "from SPARQLWrapper import SPARQLWrapper, JSON\n",
    "\n",
    "sparql = SPARQLWrapper(\"http://dbpedia.org/sparql\")\n",
    "sparql.setQuery(\"\"\"\n",
    "    PREFIX rdfs: <http://www.w3.org/2000/01/rdf-schema#>\n",
    "    SELECT ?label\n",
    "    WHERE { <http://dbpedia.org/resource/Asturias> rdfs:label ?label }\n",
    "\"\"\")\n",
    "sparql.setReturnFormat(JSON)\n",
    "results = sparql.query().convert()\n",
    "\n",
    "for result in results[\"results\"][\"bindings\"]:\n",
    "    print(result[\"label\"][\"value\"])\n",
    "\n",
    "print('---------------------------')\n",
    "\n",
    "for result in results[\"results\"][\"bindings\"]:\n",
    "    print('%s: %s' % (result[\"label\"][\"xml:lang\"], result[\"label\"][\"value\"]))"
   ]
  },
  {
   "cell_type": "raw",
   "metadata": {},
   "source": [
    "s = \"\"\"László Hunyadi or Ladislaus Hunyadi (1431[1] – March 16, 1457) was a Hungarian nobleman.\n",
    "\n",
    "Ladislaus Hunyadi was the elder of the two sons of John Hunyadi, voivode of Transylvania and later regent of the Kingdom of Hungary, and Elizabeth Szilágyi. He was the older brother of Matthias Hunyadi, who would later become the king of Hungary. At a very early age he accompanied his father in his campaigns. After the Battle of Kosovo (1448) he was left for a time, as a hostage for his father, in the hands of George Brankovic (1427–1456), despot of Serbia. In 1452 he was a member of the deputation which went to Vienna to receive back the Hungarian king Ladislaus V. In 1453 he was already ban of Croatia and Dalmatia.[2] At the diet of Buda (1455) he resigned all his dignities, because of the accusations of Ulrich II, Count of Celje, and other enemies of his house, but a reconciliation was ultimately patched together and he was betrothed to Maria, the daughter of the palatine, Ladislaus Garai.\n",
    "\n",
    "After his father's death in 1456, he was declared by his enemy Ulrich II (now Captain General of Hungary with significant power), responsible for the debts alleged to be owing by the elder Hunyadi to the state; but he defended himself so ably at the diet of Futak (October 1456) that Ulrich feigned a reconciliation, promising to protect the Hunyadis on condition that they first surrendered all the royal castles entrusted to them. A beginning was to be made with the fortress of Nándorfehérvár (now Belgrade, Serbia) of which Hunyadi was commandant.[3] While admitting Ladislaus V and Ulrich, Hunyadi excluded their army of mercenaries. On the following morning (November 9, 1456), Ulrich was killed by Hunyadi's men in unclear circumstances. Later Hunyadi served as master of the horse (Hungarian: lovászmester) until his death.[4]\n",
    "\n",
    "The terrified young king thereupon pardoned Hunyadi, and at a subsequent interview with his mother at Temesvár swore that he would protect the whole family. As a pledge of his sincerity he appointed Hunyadi lord treasurer and captain-general of the kingdom. Suspecting no evil, Hunyadi accompanied the king to Buda. But on arriving there he was arrested on a charge of plotting against the king, condemned to death without the observance of any legal formalities, and beheaded on the 16 March 1457.\n",
    "\n",
    "He is the protagonist of a popular Hungarian opera, Hunyadi László by Ferenc Erkel.\"\"\""
   ]
  },
  {
   "cell_type": "raw",
   "metadata": {},
   "source": [
    "len(s.encode('utf-8'))"
   ]
  },
  {
   "cell_type": "raw",
   "metadata": {},
   "source": [
    "len(s)"
   ]
  },
  {
   "cell_type": "code",
   "execution_count": null,
   "metadata": {},
   "outputs": [],
   "source": []
  }
 ],
 "metadata": {
  "kernelspec": {
   "display_name": "Python 3",
   "language": "python",
   "name": "python3"
  },
  "language_info": {
   "codemirror_mode": {
    "name": "ipython",
    "version": 3
   },
   "file_extension": ".py",
   "mimetype": "text/x-python",
   "name": "python",
   "nbconvert_exporter": "python",
   "pygments_lexer": "ipython3",
   "version": "3.6.9"
  }
 },
 "nbformat": 4,
 "nbformat_minor": 2
}
