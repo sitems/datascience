{
 "cells": [
  {
   "cell_type": "code",
   "execution_count": null,
   "metadata": {},
   "outputs": [],
   "source": [
    "song\n",
    "\n",
    "version\n",
    "\n",
    "release\n",
    "\n",
    "chart"
   ]
  },
  {
   "cell_type": "code",
   "execution_count": null,
   "metadata": {},
   "outputs": [],
   "source": [
    "from SPARQLWrapper import SPARQLWrapper, JSON\n",
    "import pandas as pd\n",
    "\n",
    "sparql = SPARQLWrapper(\"http://dbpedia.org/sparql\")\n",
    "\n",
    "def query(spql):\n",
    "    i = 0\n",
    "    out = []\n",
    "    while True:\n",
    "        #print(i)\n",
    "        \n",
    "        sparql.setQuery(\"\"\"\n",
    "        {}\n",
    "        \n",
    "        limit 10000\n",
    "        offset {}\n",
    "        \"\"\".format(spql.replace('{', '{{').replace('}', '}}'), i*10000))\n",
    "        i += 1\n",
    "        sparql.setReturnFormat(JSON)\n",
    "        results = sparql.query().convert()\n",
    "\n",
    "        data = results['results']['bindings']\n",
    "        #print(len(data))\n",
    "        if not data:\n",
    "            return pd.DataFrame(out)\n",
    "        out.extend(data)\n",
    "        print(len(out))\n",
    "\n",
    "\n",
    "# for result in results[\"results\"][\"bindings\"]:\n",
    "#     print(result[\"label\"][\"value\"])\n",
    "\n",
    "# print('---------------------------')\n",
    "\n",
    "# for result in results[\"results\"][\"bindings\"]:\n",
    "#     print('%s: %s' % (result[\"label\"][\"xml:lang\"], result[\"label\"][\"value\"]))"
   ]
  },
  {
   "cell_type": "code",
   "execution_count": null,
   "metadata": {},
   "outputs": [],
   "source": [
    "# spql = \"\"\"\n",
    "# SELECT DISTINCT * \n",
    "# WHERE {\n",
    "#     ?s dbo:musicalArtist ?t \n",
    "# }\"\"\"\n",
    "# spql = \"\"\"\n",
    "# SELECT distinct ?craft\n",
    "# {\n",
    "#   ?craft a dbo:Single\n",
    "# }\n",
    "# \"\"\"\n",
    "\n",
    "spql = \"\"\"\n",
    "SELECT distinct ?craft, ?y\n",
    "where {\n",
    "  ?craft a dbo:Single . \n",
    "  optional {?craft dbp:relyear ?y} \n",
    "}\n",
    "\"\"\"\n",
    "\n",
    "# spql = \"\"\"\n",
    "# SELECT distinct ?s, ?y, ?a\n",
    "# where\n",
    "# {\n",
    "#   ?s a dbo:Single . \n",
    "#   optional {?s dbp:recordDate ?y } .\n",
    "# }\n",
    "# \"\"\"\n",
    "\n",
    "# spql = \"\"\"\n",
    "# SELECT DISTINCT ?page ?artist (coalesce(?relYear, ?released) as ?releaseYear) ?runTime WHERE {\n",
    "#   ?page dct:subject dbc:Billboard_Hot_100_number-one_singles .\n",
    "#   OPTIONAL {?page dbp:artist ?artist}.\n",
    "#   OPTIONAL {?page dbp:relyear ?relYear}.\n",
    "#   OPTIONAL {?page dbp:released ?released}.\n",
    "#   OPTIONAL {?page dbo:runtime ?runTime}\n",
    "# }\n",
    "# \"\"\"\n",
    "\n",
    "df = query(spql)\n",
    "df.shape"
   ]
  },
  {
   "cell_type": "code",
   "execution_count": null,
   "metadata": {
    "scrolled": true
   },
   "outputs": [],
   "source": [
    "pd.options.display.max_colwidth = 100\n",
    "df.sample(5)"
   ]
  },
  {
   "cell_type": "raw",
   "metadata": {},
   "source": [
    "[x['value'] for x in df.sample(10)['s']]\n",
    "df['y']"
   ]
  },
  {
   "cell_type": "code",
   "execution_count": null,
   "metadata": {},
   "outputs": [],
   "source": [
    "df.to_csv('/home/miroslav/Desktop/rte.csv')"
   ]
  },
  {
   "cell_type": "code",
   "execution_count": null,
   "metadata": {},
   "outputs": [],
   "source": [
    "df.shape"
   ]
  },
  {
   "cell_type": "markdown",
   "metadata": {},
   "source": [
    "# References"
   ]
  },
  {
   "cell_type": "raw",
   "metadata": {},
   "source": [
    "https://dbpedia.org/sparql\n",
    "https://stackoverflow.com/questions/35505714/retrieving-all-dbpedia-resource-properties\n",
    "http://mappings.dbpedia.org/server/ontology/classes/"
   ]
  },
  {
   "cell_type": "markdown",
   "metadata": {},
   "source": [
    "# Trash"
   ]
  },
  {
   "cell_type": "code",
   "execution_count": null,
   "metadata": {},
   "outputs": [],
   "source": [
    "from requests_html import HTMLSession\n",
    "\n",
    "session = HTMLSession()"
   ]
  },
  {
   "cell_type": "code",
   "execution_count": null,
   "metadata": {},
   "outputs": [],
   "source": [
    "r = session.get('https://en.wikipedia.org/wiki/Red_Red_Wine')"
   ]
  },
  {
   "cell_type": "code",
   "execution_count": null,
   "metadata": {},
   "outputs": [],
   "source": [
    "r.html.find('span.mw-headline')"
   ]
  },
  {
   "cell_type": "code",
   "execution_count": null,
   "metadata": {},
   "outputs": [],
   "source": [
    "import pandas as pd\n",
    "\n",
    "dfs  =pd.read_html('https://en.wikipedia.org/wiki/Red_Red_Wine')"
   ]
  },
  {
   "cell_type": "code",
   "execution_count": null,
   "metadata": {},
   "outputs": [],
   "source": [
    "dfs[5]"
   ]
  },
  {
   "cell_type": "code",
   "execution_count": null,
   "metadata": {},
   "outputs": [],
   "source": [
    "SELECT DISTINCT ?s, ?t \n",
    "WHERE { \n",
    "?s dbo:musicalArtist ?t \n",
    "}\n",
    "\n",
    "\n",
    "\n",
    "# all properties of something\n",
    "SELECT ?p ?o\n",
    "{ \n",
    "  dbr:Hey_Brother ?p ?o\n",
    "}\n",
    "\n",
    "SELECT ?p ?o\n",
    "{ \n",
    "  dbr:Alexander\\'s_Ragtime_Band ?p ?o\n",
    "}"
   ]
  },
  {
   "cell_type": "code",
   "execution_count": null,
   "metadata": {},
   "outputs": [],
   "source": [
    "PREFIX dbo: <http://dbpedia.org/ontology/> \n",
    "PREFIX dbp: <http://dbpedia.org/property/>\n",
    "\n",
    "SELECT count(*) WHERE {\n",
    "?book a dbo:Book ;\n",
    "      dbp:title ?title. \n",
    "}\n",
    "\n",
    "\n",
    "\n",
    "\n",
    "\n",
    "\n",
    "\n",
    "\n",
    "\n",
    "SELECT ?country,?population  WHERE {\n",
    "  ?country rdf:type <http://dbpedia.org/ontology/song> .\n",
    "  ?country  <http://dbpedia.org/ontology/year> ?population \n",
    "FILTER ( ?population = 1911 )\n",
    "}\n",
    "LIMIT 10"
   ]
  },
  {
   "cell_type": "code",
   "execution_count": null,
   "metadata": {},
   "outputs": [],
   "source": []
  },
  {
   "cell_type": "code",
   "execution_count": null,
   "metadata": {},
   "outputs": [],
   "source": [
    "property\tlabel\n",
    "http://dbpedia.org/ontology/wikiPageID\t\n",
    "\"Wikipage page ID\"@en\n",
    "http://dbpedia.org/ontology/wikiPageRevisionID\t\n",
    "\"Wikipage revision ID\"@en\n",
    "http://dbpedia.org/ontology/wikiPageExternalLink\t\n",
    "\"Link from a Wikipage to an external page\"@en\n",
    "http://dbpedia.org/ontology/Work/runtime\t\n",
    "\"runtime (m)\"@en\n",
    "http://dbpedia.org/ontology/abstract\t\n",
    "\"has abstract\"@en\n",
    "http://dbpedia.org/ontology/album\t\n",
    "\"album\"@en\n",
    "http://dbpedia.org/ontology/format\t\n",
    "\"format (object)\"@en\n",
    "http://dbpedia.org/ontology/genre\t\n",
    "\"genre\"@en\n",
    "http://dbpedia.org/ontology/musicalArtist\t\n",
    "\"musical artist\"@en\n",
    "http://dbpedia.org/ontology/musicalBand\t\n",
    "\"musical band\"@en\n",
    "http://dbpedia.org/ontology/previousWork\t\n",
    "\"previous work\"@en\n",
    "http://dbpedia.org/ontology/producer\t\n",
    "\"producer\"@en\n",
    "http://dbpedia.org/ontology/recordLabel\t\n",
    "\"record label\"@en\n",
    "http://dbpedia.org/ontology/releaseDate\t\n",
    "\"release date\"@en\n",
    "http://dbpedia.org/ontology/runtime\t\n",
    "\"runtime (s)\"@en\n",
    "http://dbpedia.org/ontology/subsequentWork\t\n",
    "\"subsequent work\"@en\n",
    "http://dbpedia.org/ontology/writer\t\n",
    "\"writer\"@en\n",
    "http://dbpedia.org/property/accessdate\t\n",
    "\"accessdate\"@en\n",
    "http://dbpedia.org/property/artist\t\n",
    "\"Artist\"@en\n",
    "http://dbpedia.org/property/autocat\t\n",
    "\"autocat\"@en\n",
    "http://dbpedia.org/property/award\t\n",
    "\"award\"@en\n",
    "http://dbpedia.org/property/border\t\n",
    "\"border\"@en\n",
    "http://dbpedia.org/property/certyear\t\n",
    "\"certyear\"@en\n",
    "http://dbpedia.org/property/cover\t\n",
    "\"Cover\"@en\n",
    "http://dbpedia.org/property/id\t\n",
    "\"id\"@en\n",
    "http://dbpedia.org/property/number\t\n",
    "\"number\"@en\n",
    "http://dbpedia.org/property/recent\t\n",
    "\"recent\"@en\n",
    "http://dbpedia.org/property/recorded\t\n",
    "\"Recorded\"@en\n",
    "http://dbpedia.org/property/region\t\n",
    "\"region\"@en\n",
    "http://dbpedia.org/property/relmonth\t\n",
    "\"relmonth\"@en\n",
    "http://dbpedia.org/property/relyear\t\n",
    "\"relyear\"@en\n",
    "http://dbpedia.org/property/rev\t\n",
    "\"rev\"@en\n",
    "http://dbpedia.org/property/salesamount\t\n",
    "\"salesamount\"@en\n",
    "http://dbpedia.org/property/thisSingle\t\n",
    "\"This single\"@en\n",
    "http://dbpedia.org/property/title\t\n",
    "\"title\"@en\n",
    "http://dbpedia.org/property/type\t\n",
    "\"type\"@en\n",
    "http://dbpedia.org/property/digital\t\n",
    "\"digital\"@en\n",
    "http://dbpedia.org/property/certmonth\t\n",
    "\"certmonth\"@en\n",
    "http://dbpedia.org/property/nocert\t\n",
    "\"nocert\"@en\n",
    "http://www.w3.org/1999/02/22-rdf-syntax-ns#type\t\n",
    "http://www.w3.org/2000/01/rdf-schema#label\t\n",
    "http://www.w3.org/2000/01/rdf-schema#comment\t\n",
    "http://www.w3.org/2002/07/owl#sameAs\t\n",
    "http://purl.org/dc/terms/subject\t\n",
    "http://xmlns.com/foaf/0.1/name\t\n",
    "http://xmlns.com/foaf/0.1/isPrimaryTopicOf\t\n",
    "http://www.w3.org/ns/prov#wasDerivedFrom\t\n",
    "http://purl.org/linguistics/gold/hypernym\t\n",
    "http://dbpedia.org/ontology/wikiPageRedirects\t\n",
    "\"Wikipage redirect\"@en\n",
    "http://dbpedia.org/ontology/wikiPageDisambiguates\t\n",
    "\"Wikipage disambiguates\"@en\n",
    "http://xmlns.com/foaf/0.1/primaryTopic\t"
   ]
  }
 ],
 "metadata": {
  "kernelspec": {
   "display_name": "Python 3",
   "language": "python",
   "name": "python3"
  },
  "language_info": {
   "codemirror_mode": {
    "name": "ipython",
    "version": 3
   },
   "file_extension": ".py",
   "mimetype": "text/x-python",
   "name": "python",
   "nbconvert_exporter": "python",
   "pygments_lexer": "ipython3",
   "version": "3.6.9"
  }
 },
 "nbformat": 4,
 "nbformat_minor": 2
}
