{
 "cells": [
  {
   "cell_type": "code",
   "execution_count": null,
   "metadata": {},
   "outputs": [],
   "source": [
    "from mwviews.api import PageviewsClient\n",
    "\n",
    "# Sends a descriptive User-Agent header with every request\n",
    "p = PageviewsClient(user_agent=\"<person@organization.org> Selfie, Cat, and Dog analysis\")\n",
    "\n",
    "p.article_views('en.wikipedia', ['Selfie', 'Cat', 'Dog'], granularity='monthly', start='20191001', end='20191031')\n"
   ]
  },
  {
   "cell_type": "markdown",
   "metadata": {},
   "source": [
    "# Trash"
   ]
  },
  {
   "cell_type": "code",
   "execution_count": null,
   "metadata": {},
   "outputs": [],
   "source": [
    "p.project_views(['ro.wikipedia', 'de.wikipedia', 'commons.wikimedia'])\n",
    "p.top_articles('en.wikipedia', limit=10)\n",
    "p.article_views('en.wikipedia', ['Selfie', 'Cat'], granularity='monthly', start='20160201', end='20160331')\n",
    "\n",
    "# Feel free to add your own features in pull requests!"
   ]
  }
 ],
 "metadata": {
  "kernelspec": {
   "display_name": "Python 3",
   "language": "python",
   "name": "python3"
  },
  "language_info": {
   "codemirror_mode": {
    "name": "ipython",
    "version": 3
   },
   "file_extension": ".py",
   "mimetype": "text/x-python",
   "name": "python",
   "nbconvert_exporter": "python",
   "pygments_lexer": "ipython3",
   "version": "3.6.9"
  }
 },
 "nbformat": 4,
 "nbformat_minor": 2
}
