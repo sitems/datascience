{
 "cells": [
  {
   "cell_type": "markdown",
   "metadata": {},
   "source": [
    "# downloading data"
   ]
  },
  {
   "cell_type": "code",
   "execution_count": null,
   "metadata": {
    "collapsed": true
   },
   "outputs": [],
   "source": [
    "URL=http://downloads.dbpedia.org/3.9/en/\n",
    "\n",
    "mkdir -p dbpedia\n",
    "cd dbpedia\n",
    "\n",
    "# set the default graph\n",
    "echo \"http://dbpedia.org\" >  ./global.graph\n",
    "\n",
    "#download all ttl files from URL\n",
    "wget -q -O - $URL | sed 's/\"/\\n/g' | grep \"ttl.bz2$\" | sed \"s|^|$URL|g\" | xargs wget\n",
    "\n",
    "# virtuoso does not handle bz2 compressions\n",
    "bunzip2 *.bz2\n",
    "# recompress to save space, gz is fine for loading\n",
    "gzip *.ttl"
   ]
  },
  {
   "cell_type": "markdown",
   "metadata": {},
   "source": [
    "# loading data"
   ]
  },
  {
   "cell_type": "code",
   "execution_count": null,
   "metadata": {
    "collapsed": true
   },
   "outputs": [],
   "source": [
    "-- Disable auto indexing before doing bulk insertions / deletions\n",
    "\n",
    "-- Deleting previous entries of loader script\n",
    "delete from DB.DBA.load_list;\n",
    "\n",
    "-- see http://www.openlinksw.com/dataspace/dav/wiki/Main/VirtBulkRDFLoader\n",
    "select 'Loading data...';\n",
    "--      <folder with data>  <pattern>    <default graph if no graph file specified>\n",
    "ld_dir ('/opt/static/data/live', '*.gz', 'http://live.nl.dbpedia.org');\n",
    "\n",
    "rdf_loader_run();\n",
    "\n",
    "-- See if we have any errors\n",
    "select * from DB.DBA.load_list where ll_state <> 2;\n",
    "\n",
    "\n",
    "-- renable auto-indexing once finished with bulk operations"
   ]
  }
 ],
 "metadata": {
  "kernelspec": {
   "display_name": "Python 3",
   "language": "python",
   "name": "python3"
  },
  "language_info": {
   "codemirror_mode": {
    "name": "ipython",
    "version": 3
   },
   "file_extension": ".py",
   "mimetype": "text/x-python",
   "name": "python",
   "nbconvert_exporter": "python",
   "pygments_lexer": "ipython3",
   "version": "3.6.9"
  }
 },
 "nbformat": 4,
 "nbformat_minor": 2
}
