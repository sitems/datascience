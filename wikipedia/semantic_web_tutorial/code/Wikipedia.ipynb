{
 "cells": [
  {
   "cell_type": "raw",
   "metadata": {},
   "source": [
    "# pageviewsy po mesiacoch\n",
    "https://dumps.wikimedia.org/other/pagecounts-ez/merged/"
   ]
  },
  {
   "cell_type": "raw",
   "metadata": {},
   "source": [
    "https://wikimediafoundation.org/wiki/Our_projects\n",
    "\n",
    "### wikipedia\n",
    "Wikipedia started in January 2001, and currently offers more than 40 million articles written in 293 languages. The largest Wikipedia is in English, with more than five million articles\n",
    "\n",
    "### wiktionary\n",
    "Wiktionary is a multilingual, web-based project to create a free content dictionary of all words in all languages.\n",
    "\n",
    "### wikiquote\n",
    "Wikiquote is a repository of quotations taken from famous people, books, speeches, films or any intellectually interesting materials. Proverbs, mnemonics or slogans are also included in Wikiquote. The project started in July 2003.\n",
    "As of November 2016, there are over 183,000 entries in 89 Wikiquote language projects, with 10 Wikiquote languages over 5,000 entries.\n",
    "\n",
    "### wikibooks\n",
    "Wikibooks aims to build a collection of free e-book resources, including textbooks, language courses, manuals, and annotated public domain books. It aims to help both (self-)instruction of students and teachers in high schools and universities.\n",
    "As of June 2016, the largest Wikibooks is in the English language, with over 54,000 modules from over 2,800 developing books. The German, Hungarian, and French follow, each has over 15,000 modules. The project started in July 2003 and now has over 229,000 modules from over 5,000 developing books, across over 120 languages.\n",
    "\n",
    "### wikisource\n",
    "Wikisource is a multilingual project, started in November 2003, to archive a collection of free and open content texts. It is not only a superior format for storing classics, laws, and other free works as hypertext, but it also serves as a base for translating these texts. At the beginning, source texts in all languages (except Hebrew) were all on one wiki. However, Wikisource now has several editions in many individual languages.\n",
    "As of June 2016, Wikisource offers 2,900,000 source texts in total. The largest is the English Wikisource, with over 579,000 works. Then Polish, German, Russian, French, Hebrew and Chinese with each containing over 120,000 source texts.\n",
    "\n",
    "### wikispecies\n",
    "Wikispecies is an open, wiki-based project to provide a central, more extensive species database for taxonomy. It covers living and fossil representatives of Animalia, Plantae, Fungi, Bacteria, Archaea, Protista and all other forms of life. Launched 14 September 2004, Wikispecies is aimed specifically at the needs of scientific users, and as of July 2016, has over 480,000 entries. There are plans to help Wikispecies collaborate with the Encyclopedia of Life project when the latter is more fully underway.\n",
    "\n",
    "### wikinews\n",
    "The Wikinews project was launched in December 2004 with the mission to report the news on a wide variety of subjects. Contributors from around the world write news articles collaboratively. Reports range from original reporting and interviews to summaries of news from external sources. All reports are required to be written from a neutral point of view."
   ]
  },
  {
   "cell_type": "raw",
   "metadata": {},
   "source": [
    "# are urls case sensitive? yes\n",
    "Depends on the hosting os. Sites that are hosted on Windows tend to be case insensitive as the underlying file system is case insensitive. Sites hosted on Unix type systems tend to be case sensitive as their underlying file systems are typically case sensitive. The host name part of the URL is always case insensitive, it's the rest of the path that varies.\n"
   ]
  }
 ],
 "metadata": {
  "kernelspec": {
   "display_name": "Python 3",
   "language": "python",
   "name": "python3"
  },
  "language_info": {
   "codemirror_mode": {
    "name": "ipython",
    "version": 3
   },
   "file_extension": ".py",
   "mimetype": "text/x-python",
   "name": "python",
   "nbconvert_exporter": "python",
   "pygments_lexer": "ipython3",
   "version": "3.6.9"
  }
 },
 "nbformat": 4,
 "nbformat_minor": 2
}
